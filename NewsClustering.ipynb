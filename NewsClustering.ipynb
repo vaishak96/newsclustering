{
  "nbformat": 4,
  "nbformat_minor": 0,
  "metadata": {
    "colab": {
      "name": "NewsClusteringOCBC.ipynb",
      "provenance": [],
      "toc_visible": true
    },
    "kernelspec": {
      "name": "python3",
      "display_name": "Python 3"
    },
    "language_info": {
      "name": "python"
    }
  },
  "cells": [
    {
      "cell_type": "markdown",
      "source": [
        "# Importing Dataset ,Libraries And Analysing the Dataset"
      ],
      "metadata": {
        "id": "RiZeWCBmk0FD"
      }
    },
    {
      "cell_type": "markdown",
      "source": [
        "## Importing Libraries"
      ],
      "metadata": {
        "id": "cmCurMoonocO"
      }
    },
    {
      "cell_type": "code",
      "source": [
        "#Importing all the needed libraries \n",
        "import tensorflow as tf\n",
        "import pandas as pd\n",
        "import numpy as np\n",
        "from matplotlib import pyplot as plt\n",
        "from gensim.summarization.summarizer import summarize\n",
        "from nltk.corpus import stopwords\n",
        "from nltk.cluster.util import cosine_distance\n",
        "import numpy as np\n",
        "import nltk\n",
        "from collections import defaultdict\n",
        "import networkx as nx\n",
        "from collections import Counter\n",
        "import seaborn as sns\n",
        "import re\n",
        "from nltk.corpus import stopwords\n",
        "from nltk.stem import PorterStemmer\n",
        "from nltk.stem.wordnet import WordNetLemmatizer\n",
        "import string\n",
        "from sklearn.feature_extraction.text import CountVectorizer\n",
        "from sklearn.feature_extraction.text import TfidfVectorizer\n",
        "from sklearn.feature_extraction.text import TfidfTransformer\n",
        "from sklearn.cluster import KMeans\n",
        "from sklearn import metrics\n",
        "from wordcloud import WordCloud\n",
        "! pip install scikit-learn-extra\n",
        "from sklearn_extra.cluster import KMedoids "
      ],
      "metadata": {
        "colab": {
          "base_uri": "https://localhost:8080/"
        },
        "id": "6n-uGLjTnp58",
        "outputId": "e0f8857c-16c2-4b51-a461-99ecc336cef5"
      },
      "execution_count": 81,
      "outputs": [
        {
          "output_type": "stream",
          "name": "stdout",
          "text": [
            "Looking in indexes: https://pypi.org/simple, https://us-python.pkg.dev/colab-wheels/public/simple/\n",
            "Requirement already satisfied: scikit-learn-extra in /usr/local/lib/python3.7/dist-packages (0.2.0)\n",
            "Requirement already satisfied: scikit-learn>=0.23.0 in /usr/local/lib/python3.7/dist-packages (from scikit-learn-extra) (1.0.2)\n",
            "Requirement already satisfied: scipy>=0.19.1 in /usr/local/lib/python3.7/dist-packages (from scikit-learn-extra) (1.4.1)\n",
            "Requirement already satisfied: numpy>=1.13.3 in /usr/local/lib/python3.7/dist-packages (from scikit-learn-extra) (1.21.6)\n",
            "Requirement already satisfied: joblib>=0.11 in /usr/local/lib/python3.7/dist-packages (from scikit-learn>=0.23.0->scikit-learn-extra) (1.1.0)\n",
            "Requirement already satisfied: threadpoolctl>=2.0.0 in /usr/local/lib/python3.7/dist-packages (from scikit-learn>=0.23.0->scikit-learn-extra) (3.1.0)\n"
          ]
        }
      ]
    },
    {
      "cell_type": "markdown",
      "source": [
        "## Importing The Dataset\n"
      ],
      "metadata": {
        "id": "JKXe0kdHlEju"
      }
    },
    {
      "cell_type": "code",
      "source": [
        "#Importing the dataset\n",
        "news_dataframe=pd.read_csv('/content/news_data.csv')"
      ],
      "metadata": {
        "id": "xWvGUJS_4PNK"
      },
      "execution_count": 82,
      "outputs": []
    },
    {
      "cell_type": "markdown",
      "source": [
        "## Dataset Shape"
      ],
      "metadata": {
        "id": "dn504AQZlRC4"
      }
    },
    {
      "cell_type": "code",
      "source": [
        "#Lets look at the shape of the dataset\n",
        "news_dataframe.shape"
      ],
      "metadata": {
        "colab": {
          "base_uri": "https://localhost:8080/"
        },
        "id": "CKxcoLZMBu2b",
        "outputId": "b078e995-52da-4477-e727-e816df6f3970"
      },
      "execution_count": 83,
      "outputs": [
        {
          "output_type": "execute_result",
          "data": {
            "text/plain": [
              "(60, 3)"
            ]
          },
          "metadata": {},
          "execution_count": 83
        }
      ]
    },
    {
      "cell_type": "markdown",
      "source": [
        "## Dataset Head"
      ],
      "metadata": {
        "id": "QSC46a7Tl61f"
      }
    },
    {
      "cell_type": "code",
      "source": [
        "#Lets see a couple of rows of the dataframe to get an idea of the dataset\n",
        "news_dataframe.head()"
      ],
      "metadata": {
        "colab": {
          "base_uri": "https://localhost:8080/",
          "height": 206
        },
        "id": "cjIc1RU-4Xoa",
        "outputId": "4ebeaf72-e968-46df-fd12-ffdb1b5ca7df"
      },
      "execution_count": 84,
      "outputs": [
        {
          "output_type": "execute_result",
          "data": {
            "text/plain": [
              "          altid                               title  \\\n",
              "0  sa1a70ab8ef5     Davenport hits out at Wimbledon   \n",
              "1  ta497aea0e36      Camera phones are 'must-haves'   \n",
              "2  ta0f0fa26a93     US top of supercomputing charts   \n",
              "3  ba23aaa4f4bb  Trial begins of Spain's top banker   \n",
              "4  baa126aeb946     Safety alert as GM recalls cars   \n",
              "\n",
              "                                             content  \n",
              "0   World number one Lindsay Davenport has critic...  \n",
              "1   Four times more mobiles with cameras in them ...  \n",
              "2   The US has pushed Japan off the top of the su...  \n",
              "3   The trial of Emilio Botin, the chairman of Sp...  \n",
              "4   The world's biggest carmaker General Motors (...  "
            ],
            "text/html": [
              "\n",
              "  <div id=\"df-ae1c9cbc-cbe8-4c7a-ad0f-c1d5a52ef762\">\n",
              "    <div class=\"colab-df-container\">\n",
              "      <div>\n",
              "<style scoped>\n",
              "    .dataframe tbody tr th:only-of-type {\n",
              "        vertical-align: middle;\n",
              "    }\n",
              "\n",
              "    .dataframe tbody tr th {\n",
              "        vertical-align: top;\n",
              "    }\n",
              "\n",
              "    .dataframe thead th {\n",
              "        text-align: right;\n",
              "    }\n",
              "</style>\n",
              "<table border=\"1\" class=\"dataframe\">\n",
              "  <thead>\n",
              "    <tr style=\"text-align: right;\">\n",
              "      <th></th>\n",
              "      <th>altid</th>\n",
              "      <th>title</th>\n",
              "      <th>content</th>\n",
              "    </tr>\n",
              "  </thead>\n",
              "  <tbody>\n",
              "    <tr>\n",
              "      <th>0</th>\n",
              "      <td>sa1a70ab8ef5</td>\n",
              "      <td>Davenport hits out at Wimbledon</td>\n",
              "      <td>World number one Lindsay Davenport has critic...</td>\n",
              "    </tr>\n",
              "    <tr>\n",
              "      <th>1</th>\n",
              "      <td>ta497aea0e36</td>\n",
              "      <td>Camera phones are 'must-haves'</td>\n",
              "      <td>Four times more mobiles with cameras in them ...</td>\n",
              "    </tr>\n",
              "    <tr>\n",
              "      <th>2</th>\n",
              "      <td>ta0f0fa26a93</td>\n",
              "      <td>US top of supercomputing charts</td>\n",
              "      <td>The US has pushed Japan off the top of the su...</td>\n",
              "    </tr>\n",
              "    <tr>\n",
              "      <th>3</th>\n",
              "      <td>ba23aaa4f4bb</td>\n",
              "      <td>Trial begins of Spain's top banker</td>\n",
              "      <td>The trial of Emilio Botin, the chairman of Sp...</td>\n",
              "    </tr>\n",
              "    <tr>\n",
              "      <th>4</th>\n",
              "      <td>baa126aeb946</td>\n",
              "      <td>Safety alert as GM recalls cars</td>\n",
              "      <td>The world's biggest carmaker General Motors (...</td>\n",
              "    </tr>\n",
              "  </tbody>\n",
              "</table>\n",
              "</div>\n",
              "      <button class=\"colab-df-convert\" onclick=\"convertToInteractive('df-ae1c9cbc-cbe8-4c7a-ad0f-c1d5a52ef762')\"\n",
              "              title=\"Convert this dataframe to an interactive table.\"\n",
              "              style=\"display:none;\">\n",
              "        \n",
              "  <svg xmlns=\"http://www.w3.org/2000/svg\" height=\"24px\"viewBox=\"0 0 24 24\"\n",
              "       width=\"24px\">\n",
              "    <path d=\"M0 0h24v24H0V0z\" fill=\"none\"/>\n",
              "    <path d=\"M18.56 5.44l.94 2.06.94-2.06 2.06-.94-2.06-.94-.94-2.06-.94 2.06-2.06.94zm-11 1L8.5 8.5l.94-2.06 2.06-.94-2.06-.94L8.5 2.5l-.94 2.06-2.06.94zm10 10l.94 2.06.94-2.06 2.06-.94-2.06-.94-.94-2.06-.94 2.06-2.06.94z\"/><path d=\"M17.41 7.96l-1.37-1.37c-.4-.4-.92-.59-1.43-.59-.52 0-1.04.2-1.43.59L10.3 9.45l-7.72 7.72c-.78.78-.78 2.05 0 2.83L4 21.41c.39.39.9.59 1.41.59.51 0 1.02-.2 1.41-.59l7.78-7.78 2.81-2.81c.8-.78.8-2.07 0-2.86zM5.41 20L4 18.59l7.72-7.72 1.47 1.35L5.41 20z\"/>\n",
              "  </svg>\n",
              "      </button>\n",
              "      \n",
              "  <style>\n",
              "    .colab-df-container {\n",
              "      display:flex;\n",
              "      flex-wrap:wrap;\n",
              "      gap: 12px;\n",
              "    }\n",
              "\n",
              "    .colab-df-convert {\n",
              "      background-color: #E8F0FE;\n",
              "      border: none;\n",
              "      border-radius: 50%;\n",
              "      cursor: pointer;\n",
              "      display: none;\n",
              "      fill: #1967D2;\n",
              "      height: 32px;\n",
              "      padding: 0 0 0 0;\n",
              "      width: 32px;\n",
              "    }\n",
              "\n",
              "    .colab-df-convert:hover {\n",
              "      background-color: #E2EBFA;\n",
              "      box-shadow: 0px 1px 2px rgba(60, 64, 67, 0.3), 0px 1px 3px 1px rgba(60, 64, 67, 0.15);\n",
              "      fill: #174EA6;\n",
              "    }\n",
              "\n",
              "    [theme=dark] .colab-df-convert {\n",
              "      background-color: #3B4455;\n",
              "      fill: #D2E3FC;\n",
              "    }\n",
              "\n",
              "    [theme=dark] .colab-df-convert:hover {\n",
              "      background-color: #434B5C;\n",
              "      box-shadow: 0px 1px 3px 1px rgba(0, 0, 0, 0.15);\n",
              "      filter: drop-shadow(0px 1px 2px rgba(0, 0, 0, 0.3));\n",
              "      fill: #FFFFFF;\n",
              "    }\n",
              "  </style>\n",
              "\n",
              "      <script>\n",
              "        const buttonEl =\n",
              "          document.querySelector('#df-ae1c9cbc-cbe8-4c7a-ad0f-c1d5a52ef762 button.colab-df-convert');\n",
              "        buttonEl.style.display =\n",
              "          google.colab.kernel.accessAllowed ? 'block' : 'none';\n",
              "\n",
              "        async function convertToInteractive(key) {\n",
              "          const element = document.querySelector('#df-ae1c9cbc-cbe8-4c7a-ad0f-c1d5a52ef762');\n",
              "          const dataTable =\n",
              "            await google.colab.kernel.invokeFunction('convertToInteractive',\n",
              "                                                     [key], {});\n",
              "          if (!dataTable) return;\n",
              "\n",
              "          const docLinkHtml = 'Like what you see? Visit the ' +\n",
              "            '<a target=\"_blank\" href=https://colab.research.google.com/notebooks/data_table.ipynb>data table notebook</a>'\n",
              "            + ' to learn more about interactive tables.';\n",
              "          element.innerHTML = '';\n",
              "          dataTable['output_type'] = 'display_data';\n",
              "          await google.colab.output.renderOutput(dataTable, element);\n",
              "          const docLink = document.createElement('div');\n",
              "          docLink.innerHTML = docLinkHtml;\n",
              "          element.appendChild(docLink);\n",
              "        }\n",
              "      </script>\n",
              "    </div>\n",
              "  </div>\n",
              "  "
            ]
          },
          "metadata": {},
          "execution_count": 84
        }
      ]
    },
    {
      "cell_type": "markdown",
      "source": [
        "##  Information regarding the dataset"
      ],
      "metadata": {
        "id": "9aZBYVz4mDmC"
      }
    },
    {
      "cell_type": "code",
      "source": [
        "#Lets get info on the dataset\n",
        "news_dataframe.info()"
      ],
      "metadata": {
        "colab": {
          "base_uri": "https://localhost:8080/"
        },
        "id": "5hUZ2fFtaBmT",
        "outputId": "0426b1a0-4f2a-47c7-8586-bb2fa4ec1e36"
      },
      "execution_count": 85,
      "outputs": [
        {
          "output_type": "stream",
          "name": "stdout",
          "text": [
            "<class 'pandas.core.frame.DataFrame'>\n",
            "RangeIndex: 60 entries, 0 to 59\n",
            "Data columns (total 3 columns):\n",
            " #   Column   Non-Null Count  Dtype \n",
            "---  ------   --------------  ----- \n",
            " 0   altid    60 non-null     object\n",
            " 1   title    60 non-null     object\n",
            " 2   content  60 non-null     object\n",
            "dtypes: object(3)\n",
            "memory usage: 1.5+ KB\n"
          ]
        }
      ]
    },
    {
      "cell_type": "markdown",
      "source": [
        "## Checking Length Of A Column"
      ],
      "metadata": {
        "id": "0BoyGTDFmUXQ"
      }
    },
    {
      "cell_type": "code",
      "source": [
        "# Lets see wether the altid column of the dataframe is unique or its just the id of the dataset\n",
        "len(news_dataframe['altid'].value_counts())"
      ],
      "metadata": {
        "colab": {
          "base_uri": "https://localhost:8080/"
        },
        "id": "GDhS85LV4a-r",
        "outputId": "bacb3b14-7b6f-4deb-c3d5-ab87d3b412b4"
      },
      "execution_count": 86,
      "outputs": [
        {
          "output_type": "execute_result",
          "data": {
            "text/plain": [
              "60"
            ]
          },
          "metadata": {},
          "execution_count": 86
        }
      ]
    },
    {
      "cell_type": "markdown",
      "source": [
        "## Dropping A Column "
      ],
      "metadata": {
        "id": "vPIjK-h2m6Z0"
      }
    },
    {
      "cell_type": "code",
      "source": [
        "# Since its just the id and doesn't add any much value to the dataset let's drop it from our dataset \n",
        "news_dataframe.drop('altid',axis=1,inplace=True)"
      ],
      "metadata": {
        "id": "zAnAB-ngDYKd"
      },
      "execution_count": 87,
      "outputs": []
    },
    {
      "cell_type": "code",
      "source": [
        "#Lets see the dataset after dropping the altid column\n",
        "news_dataframe.head()"
      ],
      "metadata": {
        "colab": {
          "base_uri": "https://localhost:8080/",
          "height": 206
        },
        "id": "vsFllXY8DnOv",
        "outputId": "2a2d4fe9-ff5c-4a17-af38-5e384b033e00"
      },
      "execution_count": 88,
      "outputs": [
        {
          "output_type": "execute_result",
          "data": {
            "text/plain": [
              "                                title  \\\n",
              "0     Davenport hits out at Wimbledon   \n",
              "1      Camera phones are 'must-haves'   \n",
              "2     US top of supercomputing charts   \n",
              "3  Trial begins of Spain's top banker   \n",
              "4     Safety alert as GM recalls cars   \n",
              "\n",
              "                                             content  \n",
              "0   World number one Lindsay Davenport has critic...  \n",
              "1   Four times more mobiles with cameras in them ...  \n",
              "2   The US has pushed Japan off the top of the su...  \n",
              "3   The trial of Emilio Botin, the chairman of Sp...  \n",
              "4   The world's biggest carmaker General Motors (...  "
            ],
            "text/html": [
              "\n",
              "  <div id=\"df-6b6e6163-91f9-4a01-b068-8b9e5d8e1ce0\">\n",
              "    <div class=\"colab-df-container\">\n",
              "      <div>\n",
              "<style scoped>\n",
              "    .dataframe tbody tr th:only-of-type {\n",
              "        vertical-align: middle;\n",
              "    }\n",
              "\n",
              "    .dataframe tbody tr th {\n",
              "        vertical-align: top;\n",
              "    }\n",
              "\n",
              "    .dataframe thead th {\n",
              "        text-align: right;\n",
              "    }\n",
              "</style>\n",
              "<table border=\"1\" class=\"dataframe\">\n",
              "  <thead>\n",
              "    <tr style=\"text-align: right;\">\n",
              "      <th></th>\n",
              "      <th>title</th>\n",
              "      <th>content</th>\n",
              "    </tr>\n",
              "  </thead>\n",
              "  <tbody>\n",
              "    <tr>\n",
              "      <th>0</th>\n",
              "      <td>Davenport hits out at Wimbledon</td>\n",
              "      <td>World number one Lindsay Davenport has critic...</td>\n",
              "    </tr>\n",
              "    <tr>\n",
              "      <th>1</th>\n",
              "      <td>Camera phones are 'must-haves'</td>\n",
              "      <td>Four times more mobiles with cameras in them ...</td>\n",
              "    </tr>\n",
              "    <tr>\n",
              "      <th>2</th>\n",
              "      <td>US top of supercomputing charts</td>\n",
              "      <td>The US has pushed Japan off the top of the su...</td>\n",
              "    </tr>\n",
              "    <tr>\n",
              "      <th>3</th>\n",
              "      <td>Trial begins of Spain's top banker</td>\n",
              "      <td>The trial of Emilio Botin, the chairman of Sp...</td>\n",
              "    </tr>\n",
              "    <tr>\n",
              "      <th>4</th>\n",
              "      <td>Safety alert as GM recalls cars</td>\n",
              "      <td>The world's biggest carmaker General Motors (...</td>\n",
              "    </tr>\n",
              "  </tbody>\n",
              "</table>\n",
              "</div>\n",
              "      <button class=\"colab-df-convert\" onclick=\"convertToInteractive('df-6b6e6163-91f9-4a01-b068-8b9e5d8e1ce0')\"\n",
              "              title=\"Convert this dataframe to an interactive table.\"\n",
              "              style=\"display:none;\">\n",
              "        \n",
              "  <svg xmlns=\"http://www.w3.org/2000/svg\" height=\"24px\"viewBox=\"0 0 24 24\"\n",
              "       width=\"24px\">\n",
              "    <path d=\"M0 0h24v24H0V0z\" fill=\"none\"/>\n",
              "    <path d=\"M18.56 5.44l.94 2.06.94-2.06 2.06-.94-2.06-.94-.94-2.06-.94 2.06-2.06.94zm-11 1L8.5 8.5l.94-2.06 2.06-.94-2.06-.94L8.5 2.5l-.94 2.06-2.06.94zm10 10l.94 2.06.94-2.06 2.06-.94-2.06-.94-.94-2.06-.94 2.06-2.06.94z\"/><path d=\"M17.41 7.96l-1.37-1.37c-.4-.4-.92-.59-1.43-.59-.52 0-1.04.2-1.43.59L10.3 9.45l-7.72 7.72c-.78.78-.78 2.05 0 2.83L4 21.41c.39.39.9.59 1.41.59.51 0 1.02-.2 1.41-.59l7.78-7.78 2.81-2.81c.8-.78.8-2.07 0-2.86zM5.41 20L4 18.59l7.72-7.72 1.47 1.35L5.41 20z\"/>\n",
              "  </svg>\n",
              "      </button>\n",
              "      \n",
              "  <style>\n",
              "    .colab-df-container {\n",
              "      display:flex;\n",
              "      flex-wrap:wrap;\n",
              "      gap: 12px;\n",
              "    }\n",
              "\n",
              "    .colab-df-convert {\n",
              "      background-color: #E8F0FE;\n",
              "      border: none;\n",
              "      border-radius: 50%;\n",
              "      cursor: pointer;\n",
              "      display: none;\n",
              "      fill: #1967D2;\n",
              "      height: 32px;\n",
              "      padding: 0 0 0 0;\n",
              "      width: 32px;\n",
              "    }\n",
              "\n",
              "    .colab-df-convert:hover {\n",
              "      background-color: #E2EBFA;\n",
              "      box-shadow: 0px 1px 2px rgba(60, 64, 67, 0.3), 0px 1px 3px 1px rgba(60, 64, 67, 0.15);\n",
              "      fill: #174EA6;\n",
              "    }\n",
              "\n",
              "    [theme=dark] .colab-df-convert {\n",
              "      background-color: #3B4455;\n",
              "      fill: #D2E3FC;\n",
              "    }\n",
              "\n",
              "    [theme=dark] .colab-df-convert:hover {\n",
              "      background-color: #434B5C;\n",
              "      box-shadow: 0px 1px 3px 1px rgba(0, 0, 0, 0.15);\n",
              "      filter: drop-shadow(0px 1px 2px rgba(0, 0, 0, 0.3));\n",
              "      fill: #FFFFFF;\n",
              "    }\n",
              "  </style>\n",
              "\n",
              "      <script>\n",
              "        const buttonEl =\n",
              "          document.querySelector('#df-6b6e6163-91f9-4a01-b068-8b9e5d8e1ce0 button.colab-df-convert');\n",
              "        buttonEl.style.display =\n",
              "          google.colab.kernel.accessAllowed ? 'block' : 'none';\n",
              "\n",
              "        async function convertToInteractive(key) {\n",
              "          const element = document.querySelector('#df-6b6e6163-91f9-4a01-b068-8b9e5d8e1ce0');\n",
              "          const dataTable =\n",
              "            await google.colab.kernel.invokeFunction('convertToInteractive',\n",
              "                                                     [key], {});\n",
              "          if (!dataTable) return;\n",
              "\n",
              "          const docLinkHtml = 'Like what you see? Visit the ' +\n",
              "            '<a target=\"_blank\" href=https://colab.research.google.com/notebooks/data_table.ipynb>data table notebook</a>'\n",
              "            + ' to learn more about interactive tables.';\n",
              "          element.innerHTML = '';\n",
              "          dataTable['output_type'] = 'display_data';\n",
              "          await google.colab.output.renderOutput(dataTable, element);\n",
              "          const docLink = document.createElement('div');\n",
              "          docLink.innerHTML = docLinkHtml;\n",
              "          element.appendChild(docLink);\n",
              "        }\n",
              "      </script>\n",
              "    </div>\n",
              "  </div>\n",
              "  "
            ]
          },
          "metadata": {},
          "execution_count": 88
        }
      ]
    },
    {
      "cell_type": "markdown",
      "source": [
        "## Checking For Null & NA in the Dataset"
      ],
      "metadata": {
        "id": "eM5PGK_KnK-E"
      }
    },
    {
      "cell_type": "code",
      "source": [
        "#Checking wether there is null content or null title in the dataset\n",
        "news_dataframe.isnull().sum()"
      ],
      "metadata": {
        "colab": {
          "base_uri": "https://localhost:8080/"
        },
        "id": "Pz3pbHlK_EYn",
        "outputId": "c4f4c3ac-b4ea-40a2-a222-8d6c48190f40"
      },
      "execution_count": 89,
      "outputs": [
        {
          "output_type": "execute_result",
          "data": {
            "text/plain": [
              "title      0\n",
              "content    0\n",
              "dtype: int64"
            ]
          },
          "metadata": {},
          "execution_count": 89
        }
      ]
    },
    {
      "cell_type": "code",
      "source": [
        "#Checking wether there is NA content or NA title in the dataset\n",
        "news_dataframe.isna().sum()"
      ],
      "metadata": {
        "colab": {
          "base_uri": "https://localhost:8080/"
        },
        "id": "nMIBFOwCZ35L",
        "outputId": "a4b37480-ac5d-4228-b2a9-cfa04e4fb198"
      },
      "execution_count": 90,
      "outputs": [
        {
          "output_type": "execute_result",
          "data": {
            "text/plain": [
              "title      0\n",
              "content    0\n",
              "dtype: int64"
            ]
          },
          "metadata": {},
          "execution_count": 90
        }
      ]
    },
    {
      "cell_type": "markdown",
      "source": [
        "## Checking Uniqueness Of A Column"
      ],
      "metadata": {
        "id": "GEIV8jKPoMpQ"
      }
    },
    {
      "cell_type": "code",
      "source": [
        "#Lets see wether the title are unique or some of them are repeated\n",
        "len(news_dataframe.groupby('title').count())"
      ],
      "metadata": {
        "colab": {
          "base_uri": "https://localhost:8080/"
        },
        "id": "8hEDQbVMCL0F",
        "outputId": "79593d75-91f2-49d2-fb16-f2855118efde"
      },
      "execution_count": 91,
      "outputs": [
        {
          "output_type": "execute_result",
          "data": {
            "text/plain": [
              "60"
            ]
          },
          "metadata": {},
          "execution_count": 91
        }
      ]
    },
    {
      "cell_type": "markdown",
      "source": [
        "## Creating A New Feature "
      ],
      "metadata": {
        "id": "8i-71dwJoU1U"
      }
    },
    {
      "cell_type": "code",
      "source": [
        "#create new column for the character length of each article\n",
        "news_dataframe['char_len_of_article'] = news_dataframe.content.str.len()"
      ],
      "metadata": {
        "id": "oVfQPre6DNHn"
      },
      "execution_count": 92,
      "outputs": []
    },
    {
      "cell_type": "code",
      "source": [
        "#Lets see the dataset after the addition of the new column\n",
        "news_dataframe.head(3)"
      ],
      "metadata": {
        "colab": {
          "base_uri": "https://localhost:8080/",
          "height": 143
        },
        "id": "0qipSv3CEcf6",
        "outputId": "fd447ac2-0927-4ccd-ad66-b9a1ce966fc1"
      },
      "execution_count": 93,
      "outputs": [
        {
          "output_type": "execute_result",
          "data": {
            "text/plain": [
              "                             title  \\\n",
              "0  Davenport hits out at Wimbledon   \n",
              "1   Camera phones are 'must-haves'   \n",
              "2  US top of supercomputing charts   \n",
              "\n",
              "                                             content  char_len_of_article  \n",
              "0   World number one Lindsay Davenport has critic...                 1405  \n",
              "1   Four times more mobiles with cameras in them ...                 3550  \n",
              "2   The US has pushed Japan off the top of the su...                 2252  "
            ],
            "text/html": [
              "\n",
              "  <div id=\"df-0bae80ea-fb46-43cf-8254-59fb96851bd3\">\n",
              "    <div class=\"colab-df-container\">\n",
              "      <div>\n",
              "<style scoped>\n",
              "    .dataframe tbody tr th:only-of-type {\n",
              "        vertical-align: middle;\n",
              "    }\n",
              "\n",
              "    .dataframe tbody tr th {\n",
              "        vertical-align: top;\n",
              "    }\n",
              "\n",
              "    .dataframe thead th {\n",
              "        text-align: right;\n",
              "    }\n",
              "</style>\n",
              "<table border=\"1\" class=\"dataframe\">\n",
              "  <thead>\n",
              "    <tr style=\"text-align: right;\">\n",
              "      <th></th>\n",
              "      <th>title</th>\n",
              "      <th>content</th>\n",
              "      <th>char_len_of_article</th>\n",
              "    </tr>\n",
              "  </thead>\n",
              "  <tbody>\n",
              "    <tr>\n",
              "      <th>0</th>\n",
              "      <td>Davenport hits out at Wimbledon</td>\n",
              "      <td>World number one Lindsay Davenport has critic...</td>\n",
              "      <td>1405</td>\n",
              "    </tr>\n",
              "    <tr>\n",
              "      <th>1</th>\n",
              "      <td>Camera phones are 'must-haves'</td>\n",
              "      <td>Four times more mobiles with cameras in them ...</td>\n",
              "      <td>3550</td>\n",
              "    </tr>\n",
              "    <tr>\n",
              "      <th>2</th>\n",
              "      <td>US top of supercomputing charts</td>\n",
              "      <td>The US has pushed Japan off the top of the su...</td>\n",
              "      <td>2252</td>\n",
              "    </tr>\n",
              "  </tbody>\n",
              "</table>\n",
              "</div>\n",
              "      <button class=\"colab-df-convert\" onclick=\"convertToInteractive('df-0bae80ea-fb46-43cf-8254-59fb96851bd3')\"\n",
              "              title=\"Convert this dataframe to an interactive table.\"\n",
              "              style=\"display:none;\">\n",
              "        \n",
              "  <svg xmlns=\"http://www.w3.org/2000/svg\" height=\"24px\"viewBox=\"0 0 24 24\"\n",
              "       width=\"24px\">\n",
              "    <path d=\"M0 0h24v24H0V0z\" fill=\"none\"/>\n",
              "    <path d=\"M18.56 5.44l.94 2.06.94-2.06 2.06-.94-2.06-.94-.94-2.06-.94 2.06-2.06.94zm-11 1L8.5 8.5l.94-2.06 2.06-.94-2.06-.94L8.5 2.5l-.94 2.06-2.06.94zm10 10l.94 2.06.94-2.06 2.06-.94-2.06-.94-.94-2.06-.94 2.06-2.06.94z\"/><path d=\"M17.41 7.96l-1.37-1.37c-.4-.4-.92-.59-1.43-.59-.52 0-1.04.2-1.43.59L10.3 9.45l-7.72 7.72c-.78.78-.78 2.05 0 2.83L4 21.41c.39.39.9.59 1.41.59.51 0 1.02-.2 1.41-.59l7.78-7.78 2.81-2.81c.8-.78.8-2.07 0-2.86zM5.41 20L4 18.59l7.72-7.72 1.47 1.35L5.41 20z\"/>\n",
              "  </svg>\n",
              "      </button>\n",
              "      \n",
              "  <style>\n",
              "    .colab-df-container {\n",
              "      display:flex;\n",
              "      flex-wrap:wrap;\n",
              "      gap: 12px;\n",
              "    }\n",
              "\n",
              "    .colab-df-convert {\n",
              "      background-color: #E8F0FE;\n",
              "      border: none;\n",
              "      border-radius: 50%;\n",
              "      cursor: pointer;\n",
              "      display: none;\n",
              "      fill: #1967D2;\n",
              "      height: 32px;\n",
              "      padding: 0 0 0 0;\n",
              "      width: 32px;\n",
              "    }\n",
              "\n",
              "    .colab-df-convert:hover {\n",
              "      background-color: #E2EBFA;\n",
              "      box-shadow: 0px 1px 2px rgba(60, 64, 67, 0.3), 0px 1px 3px 1px rgba(60, 64, 67, 0.15);\n",
              "      fill: #174EA6;\n",
              "    }\n",
              "\n",
              "    [theme=dark] .colab-df-convert {\n",
              "      background-color: #3B4455;\n",
              "      fill: #D2E3FC;\n",
              "    }\n",
              "\n",
              "    [theme=dark] .colab-df-convert:hover {\n",
              "      background-color: #434B5C;\n",
              "      box-shadow: 0px 1px 3px 1px rgba(0, 0, 0, 0.15);\n",
              "      filter: drop-shadow(0px 1px 2px rgba(0, 0, 0, 0.3));\n",
              "      fill: #FFFFFF;\n",
              "    }\n",
              "  </style>\n",
              "\n",
              "      <script>\n",
              "        const buttonEl =\n",
              "          document.querySelector('#df-0bae80ea-fb46-43cf-8254-59fb96851bd3 button.colab-df-convert');\n",
              "        buttonEl.style.display =\n",
              "          google.colab.kernel.accessAllowed ? 'block' : 'none';\n",
              "\n",
              "        async function convertToInteractive(key) {\n",
              "          const element = document.querySelector('#df-0bae80ea-fb46-43cf-8254-59fb96851bd3');\n",
              "          const dataTable =\n",
              "            await google.colab.kernel.invokeFunction('convertToInteractive',\n",
              "                                                     [key], {});\n",
              "          if (!dataTable) return;\n",
              "\n",
              "          const docLinkHtml = 'Like what you see? Visit the ' +\n",
              "            '<a target=\"_blank\" href=https://colab.research.google.com/notebooks/data_table.ipynb>data table notebook</a>'\n",
              "            + ' to learn more about interactive tables.';\n",
              "          element.innerHTML = '';\n",
              "          dataTable['output_type'] = 'display_data';\n",
              "          await google.colab.output.renderOutput(dataTable, element);\n",
              "          const docLink = document.createElement('div');\n",
              "          docLink.innerHTML = docLinkHtml;\n",
              "          element.appendChild(docLink);\n",
              "        }\n",
              "      </script>\n",
              "    </div>\n",
              "  </div>\n",
              "  "
            ]
          },
          "metadata": {},
          "execution_count": 93
        }
      ]
    },
    {
      "cell_type": "markdown",
      "source": [
        "### Analysing The Created Feature"
      ],
      "metadata": {
        "id": "tTAH6Q-3o0bb"
      }
    },
    {
      "cell_type": "code",
      "source": [
        "# Finding the maximum and minimum length of the article  \n",
        "max_val=news_dataframe['char_len_of_article'].max()\n",
        "min_val=news_dataframe['char_len_of_article'].min()\n",
        "print(f\"The maximum length of the article is : {max_val} and the minimum length of the article is : {min_val} \")"
      ],
      "metadata": {
        "colab": {
          "base_uri": "https://localhost:8080/"
        },
        "id": "TdM0xzOeG4o2",
        "outputId": "1aeab693-f639-4594-84ed-434dcdfcf895"
      },
      "execution_count": 94,
      "outputs": [
        {
          "output_type": "stream",
          "name": "stdout",
          "text": [
            "The maximum length of the article is : 5182 and the minimum length of the article is : 899 \n"
          ]
        }
      ]
    },
    {
      "cell_type": "code",
      "source": [
        "#Lets see the  summary statistics of the char_len_of_article\n",
        "news_dataframe['char_len_of_article'].describe()"
      ],
      "metadata": {
        "colab": {
          "base_uri": "https://localhost:8080/"
        },
        "id": "79Wa4rYeohz0",
        "outputId": "1426b58c-a537-4615-8bda-b5aef39c7af2"
      },
      "execution_count": 95,
      "outputs": [
        {
          "output_type": "execute_result",
          "data": {
            "text/plain": [
              "count      60.000000\n",
              "mean     2304.166667\n",
              "std      1060.354628\n",
              "min       899.000000\n",
              "25%      1474.500000\n",
              "50%      2110.500000\n",
              "75%      2930.500000\n",
              "max      5182.000000\n",
              "Name: char_len_of_article, dtype: float64"
            ]
          },
          "metadata": {},
          "execution_count": 95
        }
      ]
    },
    {
      "cell_type": "markdown",
      "source": [
        "## Random Tuple Generation "
      ],
      "metadata": {
        "id": "Hw8nCNSHpLo9"
      }
    },
    {
      "cell_type": "code",
      "source": [
        "# Lets define a method that randomly  picks the indexes of the rows from dataset and returns it \n",
        "def random_tuples(number_of_rows):\n",
        "  random_data_rows=list()\n",
        "  if number_of_rows <len(news_dataframe):\n",
        "    indexes=np.random.randint(low=0,high=len(news_dataframe)-1,size=number_of_rows)\n",
        "    pd1=pd.DataFrame(news_dataframe.iloc[indexes])\n",
        "    pd1.rename(columns = {'title':'Title', 'content':'Content'}, inplace = True)\n",
        "    return pd1[['Title','Content']]\n",
        "  else:\n",
        "    print(\"Length exceeded\")\n",
        "    return -1\n",
        "\n",
        "    \n"
      ],
      "metadata": {
        "id": "bT5t2FbOdxLn"
      },
      "execution_count": 96,
      "outputs": []
    },
    {
      "cell_type": "code",
      "source": [
        "# Lets see the random tuples from the dataset\n",
        "random_data_frame= random_tuples(3)\n",
        "random_data_frame"
      ],
      "metadata": {
        "colab": {
          "base_uri": "https://localhost:8080/",
          "height": 143
        },
        "id": "tYPEIgZjfHrh",
        "outputId": "2006ca3e-8257-4005-af51-5c282f65ca46"
      },
      "execution_count": 97,
      "outputs": [
        {
          "output_type": "execute_result",
          "data": {
            "text/plain": [
              "                                Title  \\\n",
              "2     US top of supercomputing charts   \n",
              "17   Sir Paul rocks Super Bowl crowds   \n",
              "56  Global digital divide 'narrowing'   \n",
              "\n",
              "                                              Content  \n",
              "2    The US has pushed Japan off the top of the su...  \n",
              "17   Sir Paul McCartney wowed fans with a live min...  \n",
              "56   The \"digital divide\" between rich and poor na...  "
            ],
            "text/html": [
              "\n",
              "  <div id=\"df-09d6e580-d346-4acf-8491-b7d72d72c4d9\">\n",
              "    <div class=\"colab-df-container\">\n",
              "      <div>\n",
              "<style scoped>\n",
              "    .dataframe tbody tr th:only-of-type {\n",
              "        vertical-align: middle;\n",
              "    }\n",
              "\n",
              "    .dataframe tbody tr th {\n",
              "        vertical-align: top;\n",
              "    }\n",
              "\n",
              "    .dataframe thead th {\n",
              "        text-align: right;\n",
              "    }\n",
              "</style>\n",
              "<table border=\"1\" class=\"dataframe\">\n",
              "  <thead>\n",
              "    <tr style=\"text-align: right;\">\n",
              "      <th></th>\n",
              "      <th>Title</th>\n",
              "      <th>Content</th>\n",
              "    </tr>\n",
              "  </thead>\n",
              "  <tbody>\n",
              "    <tr>\n",
              "      <th>2</th>\n",
              "      <td>US top of supercomputing charts</td>\n",
              "      <td>The US has pushed Japan off the top of the su...</td>\n",
              "    </tr>\n",
              "    <tr>\n",
              "      <th>17</th>\n",
              "      <td>Sir Paul rocks Super Bowl crowds</td>\n",
              "      <td>Sir Paul McCartney wowed fans with a live min...</td>\n",
              "    </tr>\n",
              "    <tr>\n",
              "      <th>56</th>\n",
              "      <td>Global digital divide 'narrowing'</td>\n",
              "      <td>The \"digital divide\" between rich and poor na...</td>\n",
              "    </tr>\n",
              "  </tbody>\n",
              "</table>\n",
              "</div>\n",
              "      <button class=\"colab-df-convert\" onclick=\"convertToInteractive('df-09d6e580-d346-4acf-8491-b7d72d72c4d9')\"\n",
              "              title=\"Convert this dataframe to an interactive table.\"\n",
              "              style=\"display:none;\">\n",
              "        \n",
              "  <svg xmlns=\"http://www.w3.org/2000/svg\" height=\"24px\"viewBox=\"0 0 24 24\"\n",
              "       width=\"24px\">\n",
              "    <path d=\"M0 0h24v24H0V0z\" fill=\"none\"/>\n",
              "    <path d=\"M18.56 5.44l.94 2.06.94-2.06 2.06-.94-2.06-.94-.94-2.06-.94 2.06-2.06.94zm-11 1L8.5 8.5l.94-2.06 2.06-.94-2.06-.94L8.5 2.5l-.94 2.06-2.06.94zm10 10l.94 2.06.94-2.06 2.06-.94-2.06-.94-.94-2.06-.94 2.06-2.06.94z\"/><path d=\"M17.41 7.96l-1.37-1.37c-.4-.4-.92-.59-1.43-.59-.52 0-1.04.2-1.43.59L10.3 9.45l-7.72 7.72c-.78.78-.78 2.05 0 2.83L4 21.41c.39.39.9.59 1.41.59.51 0 1.02-.2 1.41-.59l7.78-7.78 2.81-2.81c.8-.78.8-2.07 0-2.86zM5.41 20L4 18.59l7.72-7.72 1.47 1.35L5.41 20z\"/>\n",
              "  </svg>\n",
              "      </button>\n",
              "      \n",
              "  <style>\n",
              "    .colab-df-container {\n",
              "      display:flex;\n",
              "      flex-wrap:wrap;\n",
              "      gap: 12px;\n",
              "    }\n",
              "\n",
              "    .colab-df-convert {\n",
              "      background-color: #E8F0FE;\n",
              "      border: none;\n",
              "      border-radius: 50%;\n",
              "      cursor: pointer;\n",
              "      display: none;\n",
              "      fill: #1967D2;\n",
              "      height: 32px;\n",
              "      padding: 0 0 0 0;\n",
              "      width: 32px;\n",
              "    }\n",
              "\n",
              "    .colab-df-convert:hover {\n",
              "      background-color: #E2EBFA;\n",
              "      box-shadow: 0px 1px 2px rgba(60, 64, 67, 0.3), 0px 1px 3px 1px rgba(60, 64, 67, 0.15);\n",
              "      fill: #174EA6;\n",
              "    }\n",
              "\n",
              "    [theme=dark] .colab-df-convert {\n",
              "      background-color: #3B4455;\n",
              "      fill: #D2E3FC;\n",
              "    }\n",
              "\n",
              "    [theme=dark] .colab-df-convert:hover {\n",
              "      background-color: #434B5C;\n",
              "      box-shadow: 0px 1px 3px 1px rgba(0, 0, 0, 0.15);\n",
              "      filter: drop-shadow(0px 1px 2px rgba(0, 0, 0, 0.3));\n",
              "      fill: #FFFFFF;\n",
              "    }\n",
              "  </style>\n",
              "\n",
              "      <script>\n",
              "        const buttonEl =\n",
              "          document.querySelector('#df-09d6e580-d346-4acf-8491-b7d72d72c4d9 button.colab-df-convert');\n",
              "        buttonEl.style.display =\n",
              "          google.colab.kernel.accessAllowed ? 'block' : 'none';\n",
              "\n",
              "        async function convertToInteractive(key) {\n",
              "          const element = document.querySelector('#df-09d6e580-d346-4acf-8491-b7d72d72c4d9');\n",
              "          const dataTable =\n",
              "            await google.colab.kernel.invokeFunction('convertToInteractive',\n",
              "                                                     [key], {});\n",
              "          if (!dataTable) return;\n",
              "\n",
              "          const docLinkHtml = 'Like what you see? Visit the ' +\n",
              "            '<a target=\"_blank\" href=https://colab.research.google.com/notebooks/data_table.ipynb>data table notebook</a>'\n",
              "            + ' to learn more about interactive tables.';\n",
              "          element.innerHTML = '';\n",
              "          dataTable['output_type'] = 'display_data';\n",
              "          await google.colab.output.renderOutput(dataTable, element);\n",
              "          const docLink = document.createElement('div');\n",
              "          docLink.innerHTML = docLinkHtml;\n",
              "          element.appendChild(docLink);\n",
              "        }\n",
              "      </script>\n",
              "    </div>\n",
              "  </div>\n",
              "  "
            ]
          },
          "metadata": {},
          "execution_count": 97
        }
      ]
    },
    {
      "cell_type": "markdown",
      "source": [
        "# **Now lets visualize the dataset and its attributes using various plots**\n",
        "As it is important to visualize the dataset so creating some plots:\n",
        "\n",
        "*   Histogram plot on character length of the content\n",
        "*   Histogram plot on Average word length of each sentence\n",
        "*   Pie Chart on stopwords vs non stopwords\n",
        "*   Bar Plot on top 10 occuring stop words in the content\n",
        "\n",
        "*   Barplot on the alphanumerical non stop words \n",
        "\n",
        "\n",
        "\n",
        "\n",
        "\n"
      ],
      "metadata": {
        "id": "iWr68d5yU98q"
      }
    },
    {
      "cell_type": "markdown",
      "source": [
        "##  Plotting Histogram for Character Length Of Content  "
      ],
      "metadata": {
        "id": "QJYHFOOpps3Z"
      }
    },
    {
      "cell_type": "code",
      "source": [
        "# Lets plot the histogram for character length  of  content\n",
        "plt.rcParams['figure.figsize']=(5,5)\n",
        "news_dataframe['char_len_of_article'].plot(kind='hist',bins=10)\n",
        "plt.grid()\n",
        "plt.title(\"Character Length Of Each Content\",fontsize=16)\n",
        "plt.xlabel(\"Count of characters\",fontsize=14)\n",
        "plt.show()"
      ],
      "metadata": {
        "colab": {
          "base_uri": "https://localhost:8080/",
          "height": 356
        },
        "id": "-Z7mfMdAFKgx",
        "outputId": "46597752-1bf1-42f0-e93f-f51c54108ef1"
      },
      "execution_count": 98,
      "outputs": [
        {
          "output_type": "display_data",
          "data": {
            "text/plain": [
              "<Figure size 360x360 with 1 Axes>"
            ],
            "image/png": "[encoded data removed]"
          },
          "metadata": {
            "needs_background": "light"
          }
        }
      ]
    },
    {
      "cell_type": "markdown",
      "source": [
        "##  Plotting Histogram for Average word length of each sentence\n",
        "\n",
        "\n",
        "\n"
      ],
      "metadata": {
        "id": "1ZZ8XDhIuokf"
      }
    },
    {
      "cell_type": "code",
      "source": [
        "# Defining a method to plot Average word length of each sentence\n",
        "def plot_average_word_length_of_each_sentence(column,title,xlabel):\n",
        "# Splitting and storing each word in a list and then Calculating the char length of each word in a sentence then averaging the char length across each sentence\n",
        "  plt.rcParams['figure.figsize']=(4,4)\n",
        "  news_dataframe[column].str.split().\\\n",
        "     apply(lambda x : [len(i) for i in x]). \\\n",
        "    map(lambda x: np.mean(x)).hist()\n",
        "  plt.title(title)\n",
        "  plt.xlabel(xlabel)\n",
        "  plt.ylabel(\"Frequency\")\n",
        "  plt.show()"
      ],
      "metadata": {
        "id": "U4pZ5KcmbiSQ"
      },
      "execution_count": 99,
      "outputs": []
    },
    {
      "cell_type": "code",
      "source": [
        "# Plotting for both the title and the content\n",
        "#plt.subplot(221)\n",
        "column_t='title'\n",
        "title_t =\" Average word length of each title sentence \"\n",
        "xlabel_t = \"Word Length\"\n",
        "plot_average_word_length_of_each_sentence(column_t,title_t,xlabel_t)\n",
        "#plt.subplot(222)\n",
        "column_c='content'\n",
        "title_c =\" Average word length of each content sentence \"\n",
        "xlabel_c = \"Word Length\"\n",
        "plot_average_word_length_of_each_sentence(column_c,title_c,xlabel_c)\n"
      ],
      "metadata": {
        "colab": {
          "base_uri": "https://localhost:8080/",
          "height": 573
        },
        "id": "F6-v9AMbcOBd",
        "outputId": "61d6d0b2-8ea8-4803-952f-2009450ab85f"
      },
      "execution_count": 100,
      "outputs": [
        {
          "output_type": "display_data",
          "data": {
            "text/plain": [
              "<Figure size 288x288 with 1 Axes>"
            ],
            "image/png": "[encoded data removed]"
          },
          "metadata": {
            "needs_background": "light"
          }
        },
        {
          "output_type": "display_data",
          "data": {
            "text/plain": [
              "<Figure size 288x288 with 1 Axes>"
            ],
            "image/png": "[encoded data removed]"
          },
          "metadata": {
            "needs_background": "light"
          }
        }
      ]
    },
    {
      "cell_type": "markdown",
      "source": [
        "## Plots with respect to StopWords and NonStopWords"
      ],
      "metadata": {
        "id": "W3p1gzTXvRkI"
      }
    },
    {
      "cell_type": "code",
      "source": [
        "# Lets download the stopwords and create a set of those english stop words\n",
        "nltk.download('stopwords')\n",
        "stop=set(stopwords.words('english'))\n"
      ],
      "metadata": {
        "colab": {
          "base_uri": "https://localhost:8080/"
        },
        "id": "AXQYO4rDi6T-",
        "outputId": "121d3351-5c0a-424a-e00b-2f05b83d4f57"
      },
      "execution_count": 101,
      "outputs": [
        {
          "output_type": "stream",
          "name": "stderr",
          "text": [
            "[nltk_data] Downloading package stopwords to /root/nltk_data...\n",
            "[nltk_data]   Package stopwords is already up-to-date!\n"
          ]
        }
      ]
    },
    {
      "cell_type": "markdown",
      "source": [
        "### Calculating Top Stopwords "
      ],
      "metadata": {
        "id": "dDnv1C9DwmsV"
      }
    },
    {
      "cell_type": "code",
      "source": [
        "#Lets create a corpus and count the occurance of each stop words in the content and see the top 10 stop words\n",
        "corpus=[]\n",
        "# Splitting the  sentences into words\n",
        "news_word= news_dataframe['content'].str.split() \n",
        "news_word_to_list=news_word.values.tolist()\n",
        "counter_stopwords=0\n",
        "# Creating a corpus and to dict if its a stopword and also count the number of stop words\n",
        "corpus=[word for i in news_word_to_list for word in i] \n",
        "dic=defaultdict(int)\n",
        "for word in corpus:\n",
        "    if word in stop:\n",
        "        counter_stopwords = counter_stopwords + 1\n",
        "        dic[word]+=1\n",
        "# Calculating the top 10 stop words\n",
        "top_10=sorted(dic.items(), key=lambda x:x[1],reverse=True)[:10] \n",
        "print(f\" The top 10 stop words in the content are : {top_10}\")\n",
        "corpuswords=[word  for word in corpus  if word.isalnum()]\n",
        "d={'Stopwords':counter_stopwords,'NonStopwords':(len(corpus)-counter_stopwords)}\n",
        "\n"
      ],
      "metadata": {
        "colab": {
          "base_uri": "https://localhost:8080/"
        },
        "id": "_Q_hWb98keaK",
        "outputId": "f1350b57-e703-46bb-e555-19e8d65d3a1c"
      },
      "execution_count": 102,
      "outputs": [
        {
          "output_type": "stream",
          "name": "stdout",
          "text": [
            " The top 10 stop words in the content are : [('the', 1272), ('to', 668), ('of', 566), ('and', 483), ('in', 468), ('a', 425), ('is', 236), ('that', 217), ('on', 210), ('for', 196)]\n"
          ]
        }
      ]
    },
    {
      "cell_type": "markdown",
      "source": [
        "### Pie Chart of StopWords vs NonStopWords"
      ],
      "metadata": {
        "id": "bUboUnDOwX0E"
      }
    },
    {
      "cell_type": "code",
      "source": [
        "# Lets visualize the number of stop words and non stop words through pie chart\n",
        "fig = plt.figure(figsize=(5,3))\n",
        "ax = fig.add_axes((0,0,.5,1))\n",
        "# Adding title\n",
        "ax.set_title('Stopwords vs NonStopwords', \n",
        "bbox={'facecolor':'0.8', 'pad':3})\n",
        "# Plotting the pie Chart\n",
        "plt.rcParams['figure.figsize']=(10,10)\n",
        "plt.pie(d.values(), labels=d.keys(),autopct='%1.1f%%')\n",
        "plt.show()\n"
      ],
      "metadata": {
        "colab": {
          "base_uri": "https://localhost:8080/",
          "height": 227
        },
        "id": "06fIyKOM2wRJ",
        "outputId": "4a7ae52b-ad53-439b-f731-d0e9f7d89efd"
      },
      "execution_count": 103,
      "outputs": [
        {
          "output_type": "display_data",
          "data": {
            "text/plain": [
              "<Figure size 360x216 with 1 Axes>"
            ],
            "image/png": "[encoded data removed]"
          },
          "metadata": {}
        }
      ]
    },
    {
      "cell_type": "markdown",
      "source": [
        "### Barplot fot Top 10 StopWords"
      ],
      "metadata": {
        "id": "gqUh3_mWyBjk"
      }
    },
    {
      "cell_type": "code",
      "source": [
        "#Lets visualize top 10 occuring stop words in the content\n",
        "plt.rcParams['figure.figsize']=(5,5)\n",
        "x,y=zip(*top_10)\n",
        "plt.title(\" Top 10 stopwords in the content\",fontsize= 16)\n",
        "plt.xlabel(\"StopWords\",fontsize = 14)\n",
        "plt.ylabel(\"Count\",fontsize=14)\n",
        "plt.bar(x,y)\n",
        "plt.show()"
      ],
      "metadata": {
        "colab": {
          "base_uri": "https://localhost:8080/",
          "height": 356
        },
        "id": "zMhnbcd4kuEM",
        "outputId": "a8fc082e-8362-4526-cc80-cec7e7c931fd"
      },
      "execution_count": 104,
      "outputs": [
        {
          "output_type": "display_data",
          "data": {
            "text/plain": [
              "<Figure size 360x360 with 1 Axes>"
            ],
            "image/png": "[encoded data removed]"
          },
          "metadata": {
            "needs_background": "light"
          }
        }
      ]
    },
    {
      "cell_type": "markdown",
      "source": [
        "### Barplot on Top Non Stop Alphanumerical Words"
      ],
      "metadata": {
        "id": "bA_uaxCMzJZ7"
      }
    },
    {
      "cell_type": "code",
      "source": [
        "# Lets plot the barplot of the alphanumerical non stop words \n",
        "corpus = [token.lower() for token in corpus]\n",
        "counter=Counter(corpus)\n",
        "most=counter.most_common()\n",
        "plt.rcParams['figure.figsize']=(5,5)\n",
        "x, y= [], []\n",
        "# Counting the alphanumerical non stop words \n",
        "for word,count in most[:40]:\n",
        "    if (word not in stop and word.isalnum()):\n",
        "        x.append(word)\n",
        "        y.append(count)\n",
        " # Creating the barplot\n",
        "b=sns.barplot(x=y,y=x)\n",
        "b.axes.set_title('Top Non Stop Alphanumerical Words',fontsize=18)\n",
        "plt.xlabel('Count',fontsize=12) \n",
        "plt.ylabel('Non_Stop_Words',fontsize=12)\n",
        "\n",
        "plt.show()"
      ],
      "metadata": {
        "colab": {
          "base_uri": "https://localhost:8080/",
          "height": 357
        },
        "id": "ZHnxADjung1p",
        "outputId": "c77c3ee2-1cf3-462e-a85f-84bfe09f92b1"
      },
      "execution_count": 105,
      "outputs": [
        {
          "output_type": "display_data",
          "data": {
            "text/plain": [
              "<Figure size 360x360 with 1 Axes>"
            ],
            "image/png": "[encoded data removed]"
          },
          "metadata": {
            "needs_background": "light"
          }
        }
      ]
    },
    {
      "cell_type": "markdown",
      "source": [
        "# **Creating A Text Summarization Method**\n",
        "\n",
        "In this section I created a text summarization method based on Extractive Summarization technique\n",
        "The following functions are created to achieve the summarization task\n",
        "*   text_clean()  : This function is used to clean the text sentence given\n",
        "*  sentence_similarity_cosine()  : This function uses cosine similarity to find similarity between sentences\n",
        "*  similarity_matrix_construction() : This functionconstructs similarity matrix using the sentence_similarity_cosine() function defined earlier \n",
        "*  generate_summary() : This function takes the dataset and calls the other methods and returns the summerized content of the dataset\n",
        "\n",
        "\n",
        "\n"
      ],
      "metadata": {
        "id": "XIR2EQJOPVRr"
      }
    },
    {
      "cell_type": "markdown",
      "source": [
        "## Text Cleaning "
      ],
      "metadata": {
        "id": "fMfcnPHUzZrT"
      }
    },
    {
      "cell_type": "code",
      "source": [
        "# Creating a text_clean method to clean the text\n",
        "def text_clean(text):\n",
        "    paragraph= text.split(\". \")\n",
        "    sentences = []\n",
        "  \n",
        "    for sentence in paragraph:\n",
        "        sentences.append(sentence.replace(\"[^a-zA-Z]\", \" \").split(\" \"))\n",
        "    sentences.pop() \n",
        "    return sentences\n"
      ],
      "metadata": {
        "id": "mjRa-QI-FMzC"
      },
      "execution_count": 106,
      "outputs": []
    },
    {
      "cell_type": "markdown",
      "source": [
        "## Sentence Similarity Based On Cosine"
      ],
      "metadata": {
        "id": "HT_vGyh6zjNb"
      }
    },
    {
      "cell_type": "code",
      "source": [
        "# Constructing the method to calculate cosine similarity between the two sentences\n",
        "def sentence_similarity_cosine(sentence1, sentence2, stopwords=None):\n",
        "    if stopwords is None:\n",
        "        stopwords = []\n",
        " \n",
        "    sentence1 = [word.lower() for word in sentence1]\n",
        "    sentence2 = [word.lower() for word in sentence2]\n",
        " \n",
        "    all_words_list = list(set(sentence1 + sentence2))\n",
        " \n",
        "    vector1 = [0] * len(all_words_list)\n",
        "    vector2 = [0] * len(all_words_list)\n",
        " \n",
        "    # build the vector for the first sentence\n",
        "    for word in sentence1:\n",
        "        if word in stopwords:\n",
        "            continue\n",
        "        vector1[all_words_list.index(word)] += 1\n",
        " \n",
        "    # build the vector for the second sentence\n",
        "    for word in sentence2:\n",
        "        if word in stopwords:\n",
        "            continue\n",
        "        vector2[all_words_list.index(word)] += 1\n",
        " \n",
        "    return 1 - cosine_distance(vector1, vector2)\n",
        " \n",
        "\n",
        "\n"
      ],
      "metadata": {
        "id": "WN8V2BWS3ej1"
      },
      "execution_count": 107,
      "outputs": []
    },
    {
      "cell_type": "markdown",
      "source": [
        "## Similarity Matrix"
      ],
      "metadata": {
        "id": "4rmQAlcKzwwf"
      }
    },
    {
      "cell_type": "code",
      "source": [
        "# Constructing similarity matrix using the sentence_similarity_cosine() function defined earlier\n",
        "def similarity_matrix_construction(sentences, stop_words):\n",
        "    # Create an empty similarity matrix\n",
        "    similarity_matrix = np.zeros((len(sentences), len(sentences)))\n",
        " \n",
        "    for index1 in range(len(sentences)):\n",
        "        for index2 in range(len(sentences)):\n",
        "            if index1 == index2: #ignore if both are same sentences\n",
        "                continue \n",
        "            similarity_matrix[index1][index2] = sentence_similarity_cosine(sentences[index1], sentences[index2], stop_words)\n",
        "\n",
        "    return similarity_matrix"
      ],
      "metadata": {
        "id": "fGfqsulIWJ4X"
      },
      "execution_count": 108,
      "outputs": []
    },
    {
      "cell_type": "markdown",
      "source": [
        "## Generate Summary Method"
      ],
      "metadata": {
        "id": "futhIO5K0W0E"
      }
    },
    {
      "cell_type": "code",
      "source": [
        "# Calls the required functions and creates the summary\n",
        "def generate_summary(dataset, top_n=5):\n",
        "    stop_words = stopwords.words('english')\n",
        "    summarize_text = []\n",
        "\n",
        "    # Step 1 - Read text anc split it\n",
        "    sentences =  text_clean(dataset)\n",
        "\n",
        "    # Step 2 - Generate Similary Martix across sentences\n",
        "    sentence_similarity_martix = similarity_matrix_construction(sentences, stop_words)\n",
        "\n",
        "    # Step 3 - Rank sentences in similarity martix\n",
        "    sentence_similarity_graph = nx.from_numpy_array(sentence_similarity_martix)\n",
        "    scores = nx.pagerank(sentence_similarity_graph)\n",
        "\n",
        "    # Step 4 - Sort the rank and pick top sentences\n",
        "    ranked_sentence = sorted(((scores[i],s) for i,s in enumerate(sentences)), reverse=True)    \n",
        "   # print(\"Indexes of top ranked_sentence order are \", ranked_sentence)    \n",
        "\n",
        "    for i in range(top_n):\n",
        "      summarize_text.append(\" \".join(ranked_sentence[i][1]))\n",
        "     \n",
        "   \n",
        "    return summarize_text\n"
      ],
      "metadata": {
        "id": "QRMvWAhP7CiY"
      },
      "execution_count": 109,
      "outputs": []
    },
    {
      "cell_type": "markdown",
      "source": [
        "## Creating Summary For Random Row"
      ],
      "metadata": {
        "id": "vxh3GE090yqU"
      }
    },
    {
      "cell_type": "code",
      "source": [
        "# Randomly generate the row and send it to the generate_summary method\n",
        "ind = np.random.randint(0,len(news_dataframe),size=1)\n",
        "i=int(ind)\n",
        "text=news_dataframe.content.iloc[i]\n",
        "print(text)\n",
        "result=generate_summary(text)"
      ],
      "metadata": {
        "colab": {
          "base_uri": "https://localhost:8080/"
        },
        "id": "DzKxFZtz9HIz",
        "outputId": "7842fc61-f0ef-49c1-cf04-fdb0bb30be8e"
      },
      "execution_count": 110,
      "outputs": [
        {
          "output_type": "stream",
          "name": "stdout",
          "text": [
            " Apple has expanded its iPod family with the release of its next generation of the digital music players.  Its latest challenges to the growing digital music gadget market include an iPod mini model which can hold 6GB compared to a previous 4GB. The company, which hopes to keep its dominant place in the digital music market, also said the gold coloured version of the mini would be dropped. A 30GB version has also been added to the iPod Photo family. The latest models have a longer battery life and their prices have been cut by an average of £40. The original iPod took an early lead in the digital music player market thanks to its large storage capacity and simple design.  During 2004 about 25 million portable players were sold, 10 million of which were Apple iPods. But analysts agree that the success is also down to its integration with the iTunes online store, which has given the company a 70% share of the legal download music market. Mike McGuire, a research director at analyst Gartner, told the BBC News website that Apple had done a good job in \"sealing off the market from competition\" so far. \"They have created a very seamless package which I think is the idea of the product - the design, function and the software are very impressive,\" he said. He added that the threat from others was always present, however. \"Creative, other Microsoft-partnered devices, Real, Sony and so on, are ratcheting up the marketing message and advertising,\" he said. Creative was very upbeat about how many of its Creative Zen players it had shipped by the end of last year, he said. Its second-generation models, like the Creative Zen Micro Photo, is due out in the summer. It will have 5GB of memory on board.  Digital music players are now the gadget of choice among young Americans, according to recent research by the Pew Internet and American Life Project. One in 10 US adults - 22 million people - now owns a digital music player of some sort. Sales of legally downloaded songs also rose more than tenfold in 2004, according to the record industry, with 200 million tracks bought online in the US and Europe in 12 months. The IFPI industry body said that the popularity of portable music players was behind the growth. Analysts say that the ease of use and growth of music services available on the net will continue to drive the trend towards portable music players.  People are also starting to use them in novel ways. Some are combining automatic syncing functions many of them have with other net functions to automatically distribute DIY radio shows, called podcasts. But 2005 will also see more competition from mobile phone operators who are keen to offer streaming services on much more powerful and sophisticated handsets. According to Mr McGuire, research suggests that people like the idea of building up huge libraries of music, which they can do with high-capacity storage devices, like iPods and Creative Zens. Mobiles do not yet have this capacity though, and there are issues about the ease of portability of mobile music. Mr McGuire said Apple was ensuring it kept a foot in the mobile music door with its recent deal with Motorola to produce a version of iTunes for Motorola phones.\n"
          ]
        }
      ]
    },
    {
      "cell_type": "markdown",
      "source": [
        "## Creating Summary For All the Rows"
      ],
      "metadata": {
        "id": "wwaq2ilZ06PO"
      }
    },
    {
      "cell_type": "code",
      "source": [
        "# Lets create a summary for every row and content column\n",
        "def summary_content(dataset):\n",
        "  ls=list()\n",
        "#  Iterate over the dataset and call the summary method and add the data obtained to a list \n",
        "  for i in range(len(dataset)):  \n",
        "    text=generate_summary(dataset.content.iloc[i])\n",
        "    ls.append(text)\n",
        "  df_summary=pd.DataFrame(ls)\n",
        "  df_summary['Summary'] = df_summary[df_summary.columns[0:]].apply(   \n",
        "    lambda x: ','.join(x.dropna().astype(str)),\n",
        "    axis=1)\n",
        "  df_summary=df_summary['Summary']\n",
        "  return df_summary\n",
        " "
      ],
      "metadata": {
        "id": "sIoztvj5SE2s"
      },
      "execution_count": 111,
      "outputs": []
    },
    {
      "cell_type": "code",
      "source": [
        "# Calling the summary_content method \n",
        "df_summary=summary_content(news_dataframe)\n"
      ],
      "metadata": {
        "id": "IKDeVZd-Ta-Y"
      },
      "execution_count": 112,
      "outputs": []
    },
    {
      "cell_type": "code",
      "source": [
        "# Lets take an example and see the difference of length\n",
        "print(f\"The original length of content :{len(news_dataframe.content.iloc[2])} \\n The length of content after summary method : {len(df_summary[2])}\")"
      ],
      "metadata": {
        "colab": {
          "base_uri": "https://localhost:8080/"
        },
        "id": "gcKg2NYaV5BW",
        "outputId": "e00dea65-e277-4d0f-b5ee-aa63e7b7ebec"
      },
      "execution_count": 113,
      "outputs": [
        {
          "output_type": "stream",
          "name": "stdout",
          "text": [
            "The original length of content :2252 \n",
            " The length of content after summary method : 509\n"
          ]
        }
      ]
    },
    {
      "cell_type": "markdown",
      "source": [
        "# **DATA PREPROCESSING STEP**\n",
        " This are the following  preprocessing steps done on the dataset before featurization .These steps ensures that the content and the title attributes are cleaned and ready for next step of datapreparation pipeline \n",
        "\n",
        "1.    **Removing the html tag :**  The news content article might contain html tags since this does not add any context or information for the clustering these are removed.\n",
        "2.    **Removing the URL :**The links present in the article does not provide much information or context for the clustering algorithm so these are removed too.\n",
        "1.   **Decontracting the words:** The news articles contains contracted words,therefore converting contractions into their natural form will bring more insights. \n",
        "2.    **Removing the punctuations or set of special characters :** Punctuations or special characters does not add to much value to the clustering so these are removed before featurization \n",
        "1.    **Check wether made up of english letters and its not alpha-numeric : ** Since they dont add much value they have been removed\n",
        "2.    **Check length of word is greater than 2**: A single character or word with two characters are removed since they are too small to add any value\n",
        "1. **Convert to Lower Case :**Since capitalization doesn't change the context or meaning they have been converted to lower case before proceeding to the other steps\n",
        "2.    **Removing the Stopwords :** Since the other non stop words present in the dataset are more important and give the general idea of the text ,so these stop words are removed \n",
        "1.   **Stemming :** Stemming is one of the normalization technique used in NLP that reduces the number of computations required. Here I have used Snowball Stemmer since it is a better version of the Porter Stemmer \n",
        "\n",
        "\n",
        "\n",
        "\n",
        "\n",
        "\n",
        "\n",
        "\n",
        "\n",
        "\n",
        "  \n",
        "\n",
        "\n",
        "\n"
      ],
      "metadata": {
        "id": "8CSXLmdwrNp1"
      }
    },
    {
      "cell_type": "code",
      "source": [
        "import re\n",
        "from nltk.corpus import stopwords\n",
        "from nltk.stem import PorterStemmer\n",
        "from nltk.stem.wordnet import WordNetLemmatizer\n",
        "import string\n",
        "stop = set(stopwords.words('english'))\n",
        "sno = nltk.stem.SnowballStemmer('english')"
      ],
      "metadata": {
        "id": "hgHHU68nZr5T"
      },
      "execution_count": 114,
      "outputs": []
    },
    {
      "cell_type": "markdown",
      "source": [
        "## Removing HTML Tag"
      ],
      "metadata": {
        "id": "dLxD16g24wpL"
      }
    },
    {
      "cell_type": "code",
      "source": [
        "# Fuction to remove html tag\n",
        "def removehtml(sentence):\n",
        "  cleanr=re.compile('<.*?>')\n",
        "  cleantext = re.sub(cleanr,' ',sentence)\n",
        "  return cleantext\n"
      ],
      "metadata": {
        "id": "dd0cDA6LawRs"
      },
      "execution_count": 115,
      "outputs": []
    },
    {
      "cell_type": "markdown",
      "source": [
        "## Removing URL Tag"
      ],
      "metadata": {
        "id": "XfNGLJan4224"
      }
    },
    {
      "cell_type": "code",
      "source": [
        "# Fuction to remove URL tag\n",
        "def removeurl(sentence):\n",
        "   return re.sub(r\"http\\S+\", \"\", sentence)"
      ],
      "metadata": {
        "id": "1Fu5ElmunX3j"
      },
      "execution_count": 116,
      "outputs": []
    },
    {
      "cell_type": "markdown",
      "source": [
        "## Expanding Contracted Words"
      ],
      "metadata": {
        "id": "-Mreh6k54-Ql"
      }
    },
    {
      "cell_type": "code",
      "source": [
        "# Fuction to expand the contracted words\n",
        "def decontracted(phrase):\n",
        "    # specific\n",
        "    phrase = re.sub(r\"won't\", \"will not\", phrase)\n",
        "    phrase = re.sub(r\"can\\'t\", \"can not\", phrase)\n",
        "\n",
        "    # general\n",
        "    phrase = re.sub(r\"n\\'t\", \" not\", phrase)\n",
        "    phrase = re.sub(r\"\\'re\", \" are\", phrase)\n",
        "    phrase = re.sub(r\"\\'s\", \" is\", phrase)\n",
        "    phrase = re.sub(r\"\\'d\", \" would\", phrase)\n",
        "    phrase = re.sub(r\"\\'ll\", \" will\", phrase)\n",
        "    phrase = re.sub(r\"\\'t\", \" not\", phrase)\n",
        "    phrase = re.sub(r\"\\'ve\", \" have\", phrase)\n",
        "    phrase = re.sub(r\"\\'m\", \" am\", phrase)\n",
        "    return phrase"
      ],
      "metadata": {
        "id": "Df6fDP6HDTmP"
      },
      "execution_count": 117,
      "outputs": []
    },
    {
      "cell_type": "markdown",
      "source": [
        "## Removing Puncuation and Special Character"
      ],
      "metadata": {
        "id": "9tMTI6Do5D99"
      }
    },
    {
      "cell_type": "code",
      "source": [
        "# Function to remove punctuation and special character\n",
        "def removepunc(sentence):\n",
        "  cleaned = re.sub(r'[?|!|\\'|\"|#|*]',r' ',sentence)\n",
        "  cleaned = re.sub(r'[.|,|)|(|\\|/]',r' ',cleaned)\n",
        "  return cleaned"
      ],
      "metadata": {
        "id": "b61D5DjseKX3"
      },
      "execution_count": 118,
      "outputs": []
    },
    {
      "cell_type": "markdown",
      "source": [
        "## Preprocessing Method"
      ],
      "metadata": {
        "id": "47G12BbJ5OAg"
      }
    },
    {
      "cell_type": "code",
      "source": [
        "# Function that calls other methods are returns the cleaned data\n",
        "def preprocessing_eda(dataset,column):\n",
        "  i=0\n",
        "  str1=' '\n",
        "  final_string=list()\n",
        "  s=' '\n",
        "  for sent in dataset[column].values:\n",
        "    filtered_sentence=list()\n",
        "    #  Removing url,hrml and expanding the contracted words\n",
        "    sent=removehtml(sent)\n",
        "    sent=removeurl(sent)\n",
        "    sent=decontracted(sent)\n",
        "    for w in sent.split():\n",
        "    # Removing punctuation stop words and words with length less than 2 and also adding the words which contains all alpha characters\n",
        "      for cleaned_words in removepunc(w).split():\n",
        "        if((cleaned_words.isalpha()) and (len(cleaned_words)>2)):\n",
        "          if(cleaned_words.lower() not in stop):\n",
        "    # Using snowball stemmer which is an better version of Porter Stemmer\n",
        "            s=(sno.stem(cleaned_words.lower())).encode('utf8')\n",
        "            filtered_sentence.append(s)\n",
        "          else:\n",
        "            continue\n",
        "        else:\n",
        "          continue\n",
        "    str1= b\" \".join(filtered_sentence)\n",
        "    str1 = str1.decode('UTF-8')  \n",
        "    final_string.append(str1)\n",
        "    i=i+1\n",
        "  return final_string\n"
      ],
      "metadata": {
        "id": "Z3bVZE2ggJgO"
      },
      "execution_count": 119,
      "outputs": []
    },
    {
      "cell_type": "markdown",
      "source": [
        "## Preprocessing Content and Title Columns"
      ],
      "metadata": {
        "id": "tu45fJtX5XUx"
      }
    },
    {
      "cell_type": "code",
      "source": [
        "# Calling the processing_eda method for content and title column\n",
        "column='content'\n",
        "new_string = preprocessing_eda(news_dataframe,column)\n",
        "news_dataframe['CleanedText'] = new_string\n",
        "column='title'\n",
        "new_string1=preprocessing_eda(news_dataframe,column)\n",
        "news_dataframe['CleanedTitle']=new_string1\n"
      ],
      "metadata": {
        "id": "yLZU9P7Ep4nM"
      },
      "execution_count": 120,
      "outputs": []
    },
    {
      "cell_type": "code",
      "source": [
        "# Observing the news dataframe after data cleaning \n",
        "news_dataframe.head(2)"
      ],
      "metadata": {
        "colab": {
          "base_uri": "https://localhost:8080/",
          "height": 191
        },
        "id": "FiFsh1_VqE-K",
        "outputId": "ca9b1e88-5fc8-4c34-b6ff-b989a2befc35"
      },
      "execution_count": 121,
      "outputs": [
        {
          "output_type": "execute_result",
          "data": {
            "text/plain": [
              "                             title  \\\n",
              "0  Davenport hits out at Wimbledon   \n",
              "1   Camera phones are 'must-haves'   \n",
              "\n",
              "                                             content  char_len_of_article  \\\n",
              "0   World number one Lindsay Davenport has critic...                 1405   \n",
              "1   Four times more mobiles with cameras in them ...                 3550   \n",
              "\n",
              "                                         CleanedText             CleanedTitle  \n",
              "0  world number one lindsay davenport criticis wi...  davenport hit wimbledon  \n",
              "1  four time mobil camera sold europ end last yea...             camera phone  "
            ],
            "text/html": [
              "\n",
              "  <div id=\"df-b674b8c1-c44f-4bff-b88f-dd51138dfd11\">\n",
              "    <div class=\"colab-df-container\">\n",
              "      <div>\n",
              "<style scoped>\n",
              "    .dataframe tbody tr th:only-of-type {\n",
              "        vertical-align: middle;\n",
              "    }\n",
              "\n",
              "    .dataframe tbody tr th {\n",
              "        vertical-align: top;\n",
              "    }\n",
              "\n",
              "    .dataframe thead th {\n",
              "        text-align: right;\n",
              "    }\n",
              "</style>\n",
              "<table border=\"1\" class=\"dataframe\">\n",
              "  <thead>\n",
              "    <tr style=\"text-align: right;\">\n",
              "      <th></th>\n",
              "      <th>title</th>\n",
              "      <th>content</th>\n",
              "      <th>char_len_of_article</th>\n",
              "      <th>CleanedText</th>\n",
              "      <th>CleanedTitle</th>\n",
              "    </tr>\n",
              "  </thead>\n",
              "  <tbody>\n",
              "    <tr>\n",
              "      <th>0</th>\n",
              "      <td>Davenport hits out at Wimbledon</td>\n",
              "      <td>World number one Lindsay Davenport has critic...</td>\n",
              "      <td>1405</td>\n",
              "      <td>world number one lindsay davenport criticis wi...</td>\n",
              "      <td>davenport hit wimbledon</td>\n",
              "    </tr>\n",
              "    <tr>\n",
              "      <th>1</th>\n",
              "      <td>Camera phones are 'must-haves'</td>\n",
              "      <td>Four times more mobiles with cameras in them ...</td>\n",
              "      <td>3550</td>\n",
              "      <td>four time mobil camera sold europ end last yea...</td>\n",
              "      <td>camera phone</td>\n",
              "    </tr>\n",
              "  </tbody>\n",
              "</table>\n",
              "</div>\n",
              "      <button class=\"colab-df-convert\" onclick=\"convertToInteractive('df-b674b8c1-c44f-4bff-b88f-dd51138dfd11')\"\n",
              "              title=\"Convert this dataframe to an interactive table.\"\n",
              "              style=\"display:none;\">\n",
              "        \n",
              "  <svg xmlns=\"http://www.w3.org/2000/svg\" height=\"24px\"viewBox=\"0 0 24 24\"\n",
              "       width=\"24px\">\n",
              "    <path d=\"M0 0h24v24H0V0z\" fill=\"none\"/>\n",
              "    <path d=\"M18.56 5.44l.94 2.06.94-2.06 2.06-.94-2.06-.94-.94-2.06-.94 2.06-2.06.94zm-11 1L8.5 8.5l.94-2.06 2.06-.94-2.06-.94L8.5 2.5l-.94 2.06-2.06.94zm10 10l.94 2.06.94-2.06 2.06-.94-2.06-.94-.94-2.06-.94 2.06-2.06.94z\"/><path d=\"M17.41 7.96l-1.37-1.37c-.4-.4-.92-.59-1.43-.59-.52 0-1.04.2-1.43.59L10.3 9.45l-7.72 7.72c-.78.78-.78 2.05 0 2.83L4 21.41c.39.39.9.59 1.41.59.51 0 1.02-.2 1.41-.59l7.78-7.78 2.81-2.81c.8-.78.8-2.07 0-2.86zM5.41 20L4 18.59l7.72-7.72 1.47 1.35L5.41 20z\"/>\n",
              "  </svg>\n",
              "      </button>\n",
              "      \n",
              "  <style>\n",
              "    .colab-df-container {\n",
              "      display:flex;\n",
              "      flex-wrap:wrap;\n",
              "      gap: 12px;\n",
              "    }\n",
              "\n",
              "    .colab-df-convert {\n",
              "      background-color: #E8F0FE;\n",
              "      border: none;\n",
              "      border-radius: 50%;\n",
              "      cursor: pointer;\n",
              "      display: none;\n",
              "      fill: #1967D2;\n",
              "      height: 32px;\n",
              "      padding: 0 0 0 0;\n",
              "      width: 32px;\n",
              "    }\n",
              "\n",
              "    .colab-df-convert:hover {\n",
              "      background-color: #E2EBFA;\n",
              "      box-shadow: 0px 1px 2px rgba(60, 64, 67, 0.3), 0px 1px 3px 1px rgba(60, 64, 67, 0.15);\n",
              "      fill: #174EA6;\n",
              "    }\n",
              "\n",
              "    [theme=dark] .colab-df-convert {\n",
              "      background-color: #3B4455;\n",
              "      fill: #D2E3FC;\n",
              "    }\n",
              "\n",
              "    [theme=dark] .colab-df-convert:hover {\n",
              "      background-color: #434B5C;\n",
              "      box-shadow: 0px 1px 3px 1px rgba(0, 0, 0, 0.15);\n",
              "      filter: drop-shadow(0px 1px 2px rgba(0, 0, 0, 0.3));\n",
              "      fill: #FFFFFF;\n",
              "    }\n",
              "  </style>\n",
              "\n",
              "      <script>\n",
              "        const buttonEl =\n",
              "          document.querySelector('#df-b674b8c1-c44f-4bff-b88f-dd51138dfd11 button.colab-df-convert');\n",
              "        buttonEl.style.display =\n",
              "          google.colab.kernel.accessAllowed ? 'block' : 'none';\n",
              "\n",
              "        async function convertToInteractive(key) {\n",
              "          const element = document.querySelector('#df-b674b8c1-c44f-4bff-b88f-dd51138dfd11');\n",
              "          const dataTable =\n",
              "            await google.colab.kernel.invokeFunction('convertToInteractive',\n",
              "                                                     [key], {});\n",
              "          if (!dataTable) return;\n",
              "\n",
              "          const docLinkHtml = 'Like what you see? Visit the ' +\n",
              "            '<a target=\"_blank\" href=https://colab.research.google.com/notebooks/data_table.ipynb>data table notebook</a>'\n",
              "            + ' to learn more about interactive tables.';\n",
              "          element.innerHTML = '';\n",
              "          dataTable['output_type'] = 'display_data';\n",
              "          await google.colab.output.renderOutput(dataTable, element);\n",
              "          const docLink = document.createElement('div');\n",
              "          docLink.innerHTML = docLinkHtml;\n",
              "          element.appendChild(docLink);\n",
              "        }\n",
              "      </script>\n",
              "    </div>\n",
              "  </div>\n",
              "  "
            ]
          },
          "metadata": {},
          "execution_count": 121
        }
      ]
    },
    {
      "cell_type": "markdown",
      "source": [
        "# **Featurization Of The Text Data**\n",
        "In this I will try various featurization techniques like tf-idf,bag of words and word2vec and so on and convert the text data into numerical matrices \n",
        "In this section I will implement the following\n",
        "*   tf-idf\n",
        "*   bags_of_words\n",
        "*   Customized Word2vec\n",
        "\n",
        "\n",
        "\n",
        "\n"
      ],
      "metadata": {
        "id": "E1UVQqiQ5vf2"
      }
    },
    {
      "cell_type": "markdown",
      "source": [
        "## Implementing tf-idf"
      ],
      "metadata": {
        "id": "lQ4Db5O67cuJ"
      }
    },
    {
      "cell_type": "code",
      "source": [
        "# Creating a function to vectorize strings and perform tf-idf transformation\n",
        "# This takes the cleaned document as arguments and returns the vectorized matrices\n",
        "\n",
        "def tf_idf_vectorize_texts(strings):\n",
        "    print('Performing vectorization and TF/IDF transformation ....')\n",
        "    count_vect = CountVectorizer() \n",
        "    X = count_vect.fit_transform(strings)  \n",
        "    transformer = TfidfTransformer(smooth_idf=False)\n",
        "    tfidf = transformer.fit_transform(X)\n",
        "    return tfidf"
      ],
      "metadata": {
        "id": "g-XXFPJxqHZ9"
      },
      "execution_count": 122,
      "outputs": []
    },
    {
      "cell_type": "markdown",
      "source": [
        "## Implementing Bag Of Words"
      ],
      "metadata": {
        "id": "7T9gvJzE7uoq"
      }
    },
    {
      "cell_type": "code",
      "source": [
        "# Creating a function to implement BOW (this takes the cleaned document as arguments and returns the vectorized matrices)\n",
        "def bag_of_words_vectorize_texts(strings):\n",
        "  count_vect = CountVectorizer() \n",
        "  count_vect.fit(strings)\n",
        "  print('Performing vectorization and BOW transformation ....')\n",
        "  final_counts = count_vect.transform(strings)\n",
        "  print(\"the type of count vectorizer \",type(final_counts))\n",
        "  return final_counts"
      ],
      "metadata": {
        "id": "zWRr6pJR6OHF"
      },
      "execution_count": 123,
      "outputs": []
    },
    {
      "cell_type": "markdown",
      "source": [
        "## Implementing Word2vec featurization"
      ],
      "metadata": {
        "id": "JmRFxIT_8g4c"
      }
    },
    {
      "cell_type": "markdown",
      "source": [
        "### Creating Filtered Sentences"
      ],
      "metadata": {
        "id": "dMvJofSJ5r8r"
      }
    },
    {
      "cell_type": "code",
      "source": [
        "# Creating a list of filtered sentences which will be later used to train the w2v model \n",
        "# I am only considering the content attribute of the original dataframe has it has more data compared to the title attribute\n",
        "import gensim\n",
        "i=0\n",
        "list_of_sent=[]\n",
        "for sent in  news_dataframe['content'].values:\n",
        "  filtered_sentence=[]\n",
        "  sent=removehtml(sent)\n",
        "  for w in sent.split():\n",
        "    for cleaned_words in removepunc(w).split():\n",
        "      if(cleaned_words.isalpha()):\n",
        "        filtered_sentence.append(cleaned_words.lower())\n",
        "      else:\n",
        "        continue\n",
        "  list_of_sent.append(filtered_sentence)  \n",
        "  \n"
      ],
      "metadata": {
        "id": "oWGF5qL26PUg"
      },
      "execution_count": 124,
      "outputs": []
    },
    {
      "cell_type": "markdown",
      "source": [
        "### Creating Word2Vec Model "
      ],
      "metadata": {
        "id": "-UZi3b6e50ne"
      }
    },
    {
      "cell_type": "code",
      "source": [
        "# Creating the w2v model using the list of sentences created above here the min count has been set to 5\n",
        "w2v_model=gensim.models.Word2Vec(list_of_sent,min_count=5,size=50,workers=4)"
      ],
      "metadata": {
        "id": "k5_2sqkK6QUF"
      },
      "execution_count": 125,
      "outputs": []
    },
    {
      "cell_type": "markdown",
      "source": [
        "### Vocabolary Of The Model"
      ],
      "metadata": {
        "id": "US-avMuS6H7S"
      }
    },
    {
      "cell_type": "code",
      "source": [
        "# Checking the vocabolary of the created model \n",
        "words=list(w2v_model.wv.vocab)\n",
        "print(len(words))"
      ],
      "metadata": {
        "colab": {
          "base_uri": "https://localhost:8080/"
        },
        "id": "QrIUrxxnjUys",
        "outputId": "2965259c-271a-477c-bf92-4fc66b3a4ab8"
      },
      "execution_count": 126,
      "outputs": [
        {
          "output_type": "stream",
          "name": "stdout",
          "text": [
            "761\n"
          ]
        }
      ]
    },
    {
      "cell_type": "markdown",
      "source": [
        "### Creating Vectorize Method"
      ],
      "metadata": {
        "id": "m_iZ6DZr6UD8"
      }
    },
    {
      "cell_type": "code",
      "source": [
        "# creating the vectorize method which takes two input model and the documents as input and creates and generates a feature vector per document as output\n",
        "def vectorize(list_of_docs, model):\n",
        "\n",
        "    features = []\n",
        "\n",
        "    for tokens in list_of_docs:\n",
        "        zero_vector = np.zeros(model.vector_size)\n",
        "        vectors = []\n",
        "        for token in tokens:\n",
        "            if token in model.wv:\n",
        "                try:\n",
        "                    vectors.append(model.wv[token])\n",
        "                except KeyError:\n",
        "                    continue\n",
        "        if vectors:\n",
        "            vectors = np.asarray(vectors)\n",
        "            avg_vec = vectors.mean(axis=0)\n",
        "            features.append(avg_vec)\n",
        "        else:\n",
        "            features.append(zero_vector)\n",
        "    return features\n"
      ],
      "metadata": {
        "id": "IkLwinJgrLKD"
      },
      "execution_count": 127,
      "outputs": []
    },
    {
      "cell_type": "markdown",
      "source": [
        "### Creating Vectorized Documents"
      ],
      "metadata": {
        "id": "lbDYa4Yr6v-m"
      }
    },
    {
      "cell_type": "code",
      "source": [
        "# Creating Vectorized documents by calling the vectorize method defined above\n",
        "vectorized_docs = vectorize(news_dataframe['CleanedText'], model=w2v_model)\n",
        "len(vectorized_docs), len(vectorized_docs[0])"
      ],
      "metadata": {
        "colab": {
          "base_uri": "https://localhost:8080/"
        },
        "id": "zRsqflgZtE0L",
        "outputId": "757d43aa-d48d-4771-f98d-1412958b55d2"
      },
      "execution_count": 128,
      "outputs": [
        {
          "output_type": "execute_result",
          "data": {
            "text/plain": [
              "(60, 50)"
            ]
          },
          "metadata": {},
          "execution_count": 128
        }
      ]
    },
    {
      "cell_type": "markdown",
      "source": [
        "# Creating Customised Kmeans"
      ],
      "metadata": {
        "id": "opy3REfrju7w"
      }
    },
    {
      "cell_type": "code",
      "source": [
        "# Defining a method which returns the fitted k-means model\n",
        "kmeans3_df = pd.DataFrame()\n",
        "def cluster_texts(num_clusters, data):\n",
        "    #perform kmeans clustering for range of clusters\n",
        "    print(\"==\"*50)\n",
        "    print('Beginning KMeans Clustering, number of clusters = ', num_clusters, '\\n') \n",
        "    km = KMeans(n_clusters=num_clusters, max_iter = 100, verbose = 2, n_init = 1).fit(data)\n",
        "    print(f\" The silhouette metric score is :{metrics.silhouette_score(data, km.labels_, metric='euclidean')}\")\n",
        "    \n",
        "\n",
        "    print(\"==\"*50)\n",
        "    \n",
        "    \n",
        "    return km"
      ],
      "metadata": {
        "id": "rlkN0nRfeEiM"
      },
      "execution_count": 129,
      "outputs": []
    },
    {
      "cell_type": "markdown",
      "source": [
        "#Finding the value of K IN K-Means\n"
      ],
      "metadata": {
        "id": "0DRrUXbI_c1w"
      }
    },
    {
      "cell_type": "markdown",
      "source": [
        "## Using silhouette metrics to find the value of k"
      ],
      "metadata": {
        "id": "JsKZyiZWBWse"
      }
    },
    {
      "cell_type": "code",
      "source": [
        "# Running a for loop from 3 to 14 to find the optimal number for k\n",
        "# After running we can observe silhouette metric score is highest for 3 .\n",
        "# Higher Silhouette Coefficient score relates to a model with better defined clusters\n",
        "for i in range(3,15):\n",
        "  cluster_texts(i,vectorized_docs)"
      ],
      "metadata": {
        "colab": {
          "base_uri": "https://localhost:8080/"
        },
        "id": "8NSP6jsnDHYo",
        "outputId": "24d4ce1e-ed2f-4128-f250-06cc0cf8b679"
      },
      "execution_count": 130,
      "outputs": [
        {
          "output_type": "stream",
          "name": "stdout",
          "text": [
            "====================================================================================================\n",
            "Beginning KMeans Clustering, number of clusters =  3 \n",
            "\n",
            "Initialization complete\n",
            "Iteration 0, inertia 0.210516297692847\n",
            "Iteration 1, inertia 0.1423737380762543\n",
            "Iteration 2, inertia 0.12703167212181687\n",
            "Iteration 3, inertia 0.11091682969731645\n",
            "Iteration 4, inertia 0.10746670336144018\n",
            "Iteration 5, inertia 0.10542092448341517\n",
            "Iteration 6, inertia 0.10512537624253818\n",
            "Converged at iteration 6: strict convergence.\n",
            " The silhouette metric score is :0.5458478927612305\n",
            "====================================================================================================\n",
            "====================================================================================================\n",
            "Beginning KMeans Clustering, number of clusters =  4 \n",
            "\n",
            "Initialization complete\n",
            "Iteration 0, inertia 0.10503045930517524\n",
            "Iteration 1, inertia 0.08137778926632973\n",
            "Iteration 2, inertia 0.07758884989966397\n",
            "Iteration 3, inertia 0.07467587115791041\n",
            "Iteration 4, inertia 0.07358198447146158\n",
            "Iteration 5, inertia 0.07329255118756489\n",
            "Iteration 6, inertia 0.07272696860691742\n",
            "Iteration 7, inertia 0.07204539915778287\n",
            "Converged at iteration 7: strict convergence.\n",
            " The silhouette metric score is :0.5428587794303894\n",
            "====================================================================================================\n",
            "====================================================================================================\n",
            "Beginning KMeans Clustering, number of clusters =  5 \n",
            "\n",
            "Initialization complete\n",
            "Iteration 0, inertia 0.06484923938735081\n",
            "Iteration 1, inertia 0.049881732299037466\n",
            "Iteration 2, inertia 0.04610770523486785\n",
            "Iteration 3, inertia 0.04466319249566828\n",
            "Iteration 4, inertia 0.04319733885137135\n",
            "Converged at iteration 4: strict convergence.\n",
            " The silhouette metric score is :0.5382660627365112\n",
            "====================================================================================================\n",
            "====================================================================================================\n",
            "Beginning KMeans Clustering, number of clusters =  6 \n",
            "\n",
            "Initialization complete\n",
            "Iteration 0, inertia 0.04048283640382665\n",
            "Iteration 1, inertia 0.036530485251794004\n",
            "Iteration 2, inertia 0.0360585174780987\n",
            "Converged at iteration 2: strict convergence.\n",
            " The silhouette metric score is :0.4952952265739441\n",
            "====================================================================================================\n",
            "====================================================================================================\n",
            "Beginning KMeans Clustering, number of clusters =  7 \n",
            "\n",
            "Initialization complete\n",
            "Iteration 0, inertia 0.032719108767031005\n",
            "Iteration 1, inertia 0.02667436437859323\n",
            "Iteration 2, inertia 0.025335360940944057\n",
            "Converged at iteration 2: strict convergence.\n",
            " The silhouette metric score is :0.5090078711509705\n",
            "====================================================================================================\n",
            "====================================================================================================\n",
            "Beginning KMeans Clustering, number of clusters =  8 \n",
            "\n",
            "Initialization complete\n",
            "Iteration 0, inertia 0.02194843991535715\n",
            "Iteration 1, inertia 0.01833879204441661\n",
            "Iteration 2, inertia 0.018065223066558132\n",
            "Iteration 3, inertia 0.01690226799305412\n",
            "Iteration 4, inertia 0.015789296102314398\n",
            "Iteration 5, inertia 0.01562467389844524\n",
            "Converged at iteration 5: strict convergence.\n",
            " The silhouette metric score is :0.5364367961883545\n",
            "====================================================================================================\n",
            "====================================================================================================\n",
            "Beginning KMeans Clustering, number of clusters =  9 \n",
            "\n",
            "Initialization complete\n",
            "Iteration 0, inertia 0.01652161001483378\n",
            "Iteration 1, inertia 0.012590644501642392\n",
            "Converged at iteration 1: strict convergence.\n",
            " The silhouette metric score is :0.5421431064605713\n",
            "====================================================================================================\n",
            "====================================================================================================\n",
            "Beginning KMeans Clustering, number of clusters =  10 \n",
            "\n",
            "Initialization complete\n",
            "Iteration 0, inertia 0.01001301669976265\n",
            "Iteration 1, inertia 0.00861536439147721\n",
            "Converged at iteration 1: strict convergence.\n",
            " The silhouette metric score is :0.5469383001327515\n",
            "====================================================================================================\n",
            "====================================================================================================\n",
            "Beginning KMeans Clustering, number of clusters =  11 \n",
            "\n",
            "Initialization complete\n",
            "Iteration 0, inertia 0.009460053370552043\n",
            "Iteration 1, inertia 0.0071413016803957355\n",
            "Iteration 2, inertia 0.006971704659452134\n",
            "Converged at iteration 2: strict convergence.\n",
            " The silhouette metric score is :0.5372203588485718\n",
            "====================================================================================================\n",
            "====================================================================================================\n",
            "Beginning KMeans Clustering, number of clusters =  12 \n",
            "\n",
            "Initialization complete\n",
            "Iteration 0, inertia 0.009347830300591456\n",
            "Iteration 1, inertia 0.005876418812909375\n",
            "Iteration 2, inertia 0.005825523310428123\n",
            "Converged at iteration 2: strict convergence.\n",
            " The silhouette metric score is :0.513922393321991\n",
            "====================================================================================================\n",
            "====================================================================================================\n",
            "Beginning KMeans Clustering, number of clusters =  13 \n",
            "\n",
            "Initialization complete\n",
            "Iteration 0, inertia 0.006157518375075069\n",
            "Iteration 1, inertia 0.004674512991204388\n",
            "Converged at iteration 1: strict convergence.\n",
            " The silhouette metric score is :0.5110013484954834\n",
            "====================================================================================================\n",
            "====================================================================================================\n",
            "Beginning KMeans Clustering, number of clusters =  14 \n",
            "\n",
            "Initialization complete\n",
            "Iteration 0, inertia 0.005337915446361655\n",
            "Iteration 1, inertia 0.0038916560075534833\n",
            "Iteration 2, inertia 0.003666045907551681\n",
            "Converged at iteration 2: strict convergence.\n",
            " The silhouette metric score is :0.5326991677284241\n",
            "====================================================================================================\n"
          ]
        }
      ]
    },
    {
      "cell_type": "markdown",
      "source": [
        "## Using Elbow Method to find the value of K"
      ],
      "metadata": {
        "id": "xFHZjCMxMVhS"
      }
    },
    {
      "cell_type": "code",
      "source": [
        "# Iterating over wide range of k values to find the optimal k value the kmeans is fitted on the vectorized document.\n",
        "#The vectorized documents  is obtained by passing the cleaned content value to word2vec \n",
        "# Appending the intertia of kmeans which will be later used in the plot \n",
        "inertia = list()\n",
        "for n in range(1 , 15):\n",
        "    algorithm = (KMeans(n_clusters = n ,init='k-means++', n_init = 10 ,max_iter=300, \n",
        "                        tol=0.0001,  random_state= 111  , algorithm='elkan') )\n",
        "    algorithm.fit(vectorized_docs)\n",
        "    inertia.append(algorithm.inertia_)"
      ],
      "metadata": {
        "colab": {
          "base_uri": "https://localhost:8080/"
        },
        "id": "CJfKwOLuF8--",
        "outputId": "430cca70-6ee2-4b00-cecc-9f3aa477056d"
      },
      "execution_count": 131,
      "outputs": [
        {
          "output_type": "stream",
          "name": "stderr",
          "text": [
            "/usr/local/lib/python3.7/dist-packages/sklearn/cluster/_kmeans.py:968: RuntimeWarning: algorithm='elkan' doesn't make sense for a single cluster. Using 'full' instead.\n",
            "  RuntimeWarning,\n"
          ]
        }
      ]
    },
    {
      "cell_type": "code",
      "source": [
        "# Plotting the elbow curve to obtain the k value\n",
        "# We can observe that the k value is at 3 since it bends like elbow at position 3 and this is also verified by the silhouette metric score\n",
        "plt.figure(1 , figsize = (5 ,5))\n",
        "plt.plot(np.arange(1 , 15) , inertia , 'o')\n",
        "plt.plot(np.arange(1 , 15) , inertia , '-' , alpha = 0.5)\n",
        "plt.xlabel('Number of Clusters',fontsize=14) , plt.ylabel('Inertia',fontsize=14)\n",
        "plt.title(\"K-Means ELBOW METHOD\",fontsize=18)\n",
        "plt.show()"
      ],
      "metadata": {
        "colab": {
          "base_uri": "https://localhost:8080/",
          "height": 358
        },
        "id": "9zKBxdlpGSWP",
        "outputId": "8deaa6c3-1c00-4ba1-9bfd-485dde0efcce"
      },
      "execution_count": 132,
      "outputs": [
        {
          "output_type": "display_data",
          "data": {
            "text/plain": [
              "<Figure size 360x360 with 1 Axes>"
            ],
            "image/png": "[encoded data removed]"
          },
          "metadata": {
            "needs_background": "light"
          }
        }
      ]
    },
    {
      "cell_type": "markdown",
      "source": [
        "## Observations\n",
        "The following observations were made :\n",
        "\n",
        "*   The optimal value of k was found to be at 3 by both silhouette metrics score and kmeans ELBOW Method.\n",
        "*   After running we can observe silhouette metric score is highest for 3 , higher Silhouette Coefficient score relates to a model with better defined clusters.\n",
        "\n",
        "*   In the ELBOW Method above we can observe that the curve bends at 3\n",
        "\n",
        "\n",
        "\n",
        "\n"
      ],
      "metadata": {
        "id": "UfeLZThKcWNu"
      }
    },
    {
      "cell_type": "markdown",
      "source": [
        "#Experimentations\n",
        "*   First Experimentation - Kmeans on featurized Cleaned Text(Tf-idf)\n",
        "*   Second Experimentation- Kmeans on featurized Cleaned Title(Tf-idf)\n",
        "*   Third Experimentation - Kmeans on both featurized Cleaned Text and Title(Tf-idf)\n",
        "*   Fourth Experimentation - Kmeans on featurized Cleaned Text(BOW)\n",
        "\n",
        "*   Fifth Experimentation - Kmeans on featurized Cleaned Text but using randomised Centroid (Tf-idf)\n",
        "*   Sixth Experimentation - Kmeans model on summaraised Text ( Word2Vec used for featurization)\n",
        "*   Seventh Experimentation - Kmeans model on Cleaned Text (  Word2Vec used for featurization)\n",
        "*   Eighth Experimentation - KMedoids model on Cleaned Text(Word2Vec used for featurization)\n",
        "\n",
        "\n",
        "\n",
        "\n",
        "\n"
      ],
      "metadata": {
        "id": "iRBuYq53NDgV"
      }
    },
    {
      "cell_type": "markdown",
      "source": [
        "##Experiment 1 - Kmeans on featurized Cleaned Text(Tf-idf)"
      ],
      "metadata": {
        "id": "cIziaBfNOMqQ"
      }
    },
    {
      "cell_type": "markdown",
      "source": [
        "### Vectorizing on Cleaned Text and Building the model"
      ],
      "metadata": {
        "id": "BGZO1gBCLxjH"
      }
    },
    {
      "cell_type": "code",
      "source": [
        "#vectorized the CleanedText\n",
        "data_text=news_dataframe['CleanedText']\n",
        "documents_vectorized_text = tf_idf_vectorize_texts(data_text)\n",
        "#Lets see the shape of the vectorized Cleaned Text\n",
        "print(f\"The shape of the document after vectorization and tf-idf transformation is : {documents_vectorized_text.shape}\")\n",
        "#Running kmeans model on vectorized content\n",
        "kmeans3_content = cluster_texts(3, documents_vectorized_text)"
      ],
      "metadata": {
        "colab": {
          "base_uri": "https://localhost:8080/"
        },
        "id": "vbIK5K4uOJ4g",
        "outputId": "c9e81af0-3d36-455a-9a2c-a46b74f3dd33"
      },
      "execution_count": 133,
      "outputs": [
        {
          "output_type": "stream",
          "name": "stdout",
          "text": [
            "Performing vectorization and TF/IDF transformation ....\n",
            "The shape of the document after vectorization and tf-idf transformation is : (60, 3210)\n",
            "====================================================================================================\n",
            "Beginning KMeans Clustering, number of clusters =  3 \n",
            "\n",
            "Initialization complete\n",
            "Iteration 0, inertia 104.40848476381828\n",
            "Iteration 1, inertia 53.96088789429338\n",
            "Converged at iteration 1: strict convergence.\n",
            " The silhouette metric score is :0.009771747658195095\n",
            "====================================================================================================\n"
          ]
        }
      ]
    },
    {
      "cell_type": "markdown",
      "source": [
        "### Distribution of Labels"
      ],
      "metadata": {
        "id": "OvPPQruIMMer"
      }
    },
    {
      "cell_type": "code",
      "source": [
        "# Lets see the labels distribution\n",
        "kmeans3_df['Labels_On_Content']=(kmeans3_content.labels_)\n",
        "kmeans3_df['Labels_On_Content'].value_counts()"
      ],
      "metadata": {
        "colab": {
          "base_uri": "https://localhost:8080/"
        },
        "id": "MzW1srwwPc-N",
        "outputId": "37469c3f-07ee-4170-c387-df8ea02cf6e8"
      },
      "execution_count": 134,
      "outputs": [
        {
          "output_type": "execute_result",
          "data": {
            "text/plain": [
              "2    29\n",
              "1    21\n",
              "0    10\n",
              "Name: Labels_On_Content, dtype: int64"
            ]
          },
          "metadata": {},
          "execution_count": 134
        }
      ]
    },
    {
      "cell_type": "markdown",
      "source": [
        "## Experiment 2 - Kmeans on featurized Cleaned Title(Tf-idf)"
      ],
      "metadata": {
        "id": "7Tb7XyydQogn"
      }
    },
    {
      "cell_type": "markdown",
      "source": [
        "### Vectorizing on Cleaned Title and Building the model"
      ],
      "metadata": {
        "id": "xXfVAoGQQq7G"
      }
    },
    {
      "cell_type": "code",
      "source": [
        "#Vectorizing the CleanedTitle\n",
        "data_title=news_dataframe['CleanedTitle']\n",
        "documents_vectorized_title = tf_idf_vectorize_texts(data_title)\n",
        "#Lets see the shape of the vectorized Cleaned Text\n",
        "documents_vectorized_title.shape\n",
        "#Running kmeans model on vectorized title\n",
        "kmeans3_title= cluster_texts(3,documents_vectorized_title)"
      ],
      "metadata": {
        "colab": {
          "base_uri": "https://localhost:8080/"
        },
        "id": "TYsVkQcUQr03",
        "outputId": "11dec974-096a-4cf6-c4a5-5dd7a84d7634"
      },
      "execution_count": 135,
      "outputs": [
        {
          "output_type": "stream",
          "name": "stdout",
          "text": [
            "Performing vectorization and TF/IDF transformation ....\n",
            "====================================================================================================\n",
            "Beginning KMeans Clustering, number of clusters =  3 \n",
            "\n",
            "Initialization complete\n",
            "Iteration 0, inertia 112.1257698677858\n",
            "Iteration 1, inertia 56.490150877272235\n",
            "Converged at iteration 1: strict convergence.\n",
            " The silhouette metric score is :0.004173144730166677\n",
            "====================================================================================================\n"
          ]
        }
      ]
    },
    {
      "cell_type": "markdown",
      "source": [
        "### Distribution of Labels"
      ],
      "metadata": {
        "id": "JA8ZyT9GPFNA"
      }
    },
    {
      "cell_type": "code",
      "source": [
        "# Lets see the labels distribution\n",
        "kmeans3_df['Labels_On_Title']=(kmeans3_title.labels_)\n",
        "kmeans3_df['Labels_On_Title'].value_counts()"
      ],
      "metadata": {
        "colab": {
          "base_uri": "https://localhost:8080/"
        },
        "id": "doZ9v_T3QsGC",
        "outputId": "b730746b-278a-4ff9-e175-90d3c93a2eff"
      },
      "execution_count": 136,
      "outputs": [
        {
          "output_type": "execute_result",
          "data": {
            "text/plain": [
              "1    51\n",
              "0     6\n",
              "2     3\n",
              "Name: Labels_On_Title, dtype: int64"
            ]
          },
          "metadata": {},
          "execution_count": 136
        }
      ]
    },
    {
      "cell_type": "markdown",
      "source": [
        "## Experiment 3 - Kmeans on both featurized Cleaned Text and Title(Tf-idf)"
      ],
      "metadata": {
        "id": "XvKmqZnsRhwB"
      }
    },
    {
      "cell_type": "markdown",
      "source": [
        "###  Vectorizing on both the Columns and Building the model"
      ],
      "metadata": {
        "id": "pOnVkip_RUf4"
      }
    },
    {
      "cell_type": "code",
      "source": [
        "# Since it takes two column different approach is used to obtain featurized vector\n",
        "from sklearn.compose import make_column_transformer\n",
        "features=news_dataframe.iloc[:,[-2,-1]]\n",
        "vectorizer = TfidfVectorizer(lowercase=False)\n",
        "# Using the make column transformer method to transform both the column simultaneously\n",
        "transformer = make_column_transformer((vectorizer, 'CleanedText'), (vectorizer, 'CleanedTitle'))\n",
        "features = transformer.fit_transform(features)\n",
        "# Lets check the shape of the featurized vector\n",
        "print(f\" The shape of the document after vectorization and tf-idf transformation is :{features.shape}\")\n",
        "# Running kmeans model on Combined Features \n",
        "kmeans3_combined = cluster_texts(3, features)\n"
      ],
      "metadata": {
        "colab": {
          "base_uri": "https://localhost:8080/"
        },
        "id": "cWZJfXuKRqFt",
        "outputId": "044e5400-59a7-4600-92d6-6e68a4cf41d0"
      },
      "execution_count": 137,
      "outputs": [
        {
          "output_type": "stream",
          "name": "stdout",
          "text": [
            " The shape of the document after vectorization and tf-idf transformation is :(60, 3435)\n",
            "====================================================================================================\n",
            "Beginning KMeans Clustering, number of clusters =  3 \n",
            "\n",
            "Initialization complete\n",
            "Iteration 0, inertia 217.12751059830435\n",
            "Iteration 1, inertia 110.73966744301538\n",
            "Converged at iteration 1: strict convergence.\n",
            " The silhouette metric score is :0.002745560675992559\n",
            "====================================================================================================\n"
          ]
        }
      ]
    },
    {
      "cell_type": "markdown",
      "source": [
        "### Distribution of Labels"
      ],
      "metadata": {
        "id": "VLBZvKBsPKQb"
      }
    },
    {
      "cell_type": "code",
      "source": [
        "# Lets see the labels distribution\n",
        "kmeans3_df['Labels_On_Combined']=(kmeans3_combined.labels_)\n",
        "kmeans3_df['Labels_On_Combined'].value_counts()"
      ],
      "metadata": {
        "colab": {
          "base_uri": "https://localhost:8080/"
        },
        "id": "nBsz0e_sRrHb",
        "outputId": "253f2a44-1946-4fa4-bbde-998c4ae59afd"
      },
      "execution_count": 138,
      "outputs": [
        {
          "output_type": "execute_result",
          "data": {
            "text/plain": [
              "2    27\n",
              "1    21\n",
              "0    12\n",
              "Name: Labels_On_Combined, dtype: int64"
            ]
          },
          "metadata": {},
          "execution_count": 138
        }
      ]
    },
    {
      "cell_type": "markdown",
      "source": [
        "## Experiment 4 - Kmeans on featurized Cleaned Text(BOW)\n"
      ],
      "metadata": {
        "id": "RaFGtOyBUeT4"
      }
    },
    {
      "cell_type": "markdown",
      "source": [
        "### Vectorizing based on Bag Of Words and Building a Model"
      ],
      "metadata": {
        "id": "FIA1WsvSStZh"
      }
    },
    {
      "cell_type": "code",
      "source": [
        "# Vectorizing the CleanedText\n",
        "vectorized_text = bag_of_words_vectorize_texts(news_dataframe['CleanedText'])\n",
        "#Lets see the shape of the vectorized Cleaned Text\n",
        "print(f\"The shape of the document after vectorization and tf-idf transformation is : {vectorized_text.shape}\")\n",
        "kmeans3_BOW_cleanedtext = cluster_texts(3, vectorized_text)"
      ],
      "metadata": {
        "colab": {
          "base_uri": "https://localhost:8080/"
        },
        "id": "R826TeorUiuo",
        "outputId": "7544f05b-b3be-48d3-b414-68310d95b465"
      },
      "execution_count": 139,
      "outputs": [
        {
          "output_type": "stream",
          "name": "stdout",
          "text": [
            "Performing vectorization and BOW transformation ....\n",
            "the type of count vectorizer  <class 'scipy.sparse.csr.csr_matrix'>\n",
            "The shape of the document after vectorization and tf-idf transformation is : (60, 3210)\n",
            "====================================================================================================\n",
            "Beginning KMeans Clustering, number of clusters =  3 \n",
            "\n",
            "Initialization complete\n",
            "Iteration 0, inertia 37090.0\n",
            "Iteration 1, inertia 25500.827586206873\n",
            "Converged at iteration 1: strict convergence.\n",
            " The silhouette metric score is :0.19424596857677445\n",
            "====================================================================================================\n"
          ]
        }
      ]
    },
    {
      "cell_type": "markdown",
      "source": [
        "### Distribution of Labels"
      ],
      "metadata": {
        "id": "gkTTDQ6fPNCe"
      }
    },
    {
      "cell_type": "code",
      "source": [
        "# Lets see the labels distribution\n",
        "kmeans3_df['LabelsBOW_cleanedtext']=(kmeans3_BOW_cleanedtext.labels_)\n",
        "kmeans3_df['LabelsBOW_cleanedtext'].value_counts()"
      ],
      "metadata": {
        "colab": {
          "base_uri": "https://localhost:8080/"
        },
        "id": "PND8HjrBUjGM",
        "outputId": "abc8ebee-b946-4e5b-d5d7-af1e3356ff9a"
      },
      "execution_count": 140,
      "outputs": [
        {
          "output_type": "execute_result",
          "data": {
            "text/plain": [
              "0    58\n",
              "1     1\n",
              "2     1\n",
              "Name: LabelsBOW_cleanedtext, dtype: int64"
            ]
          },
          "metadata": {},
          "execution_count": 140
        }
      ]
    },
    {
      "cell_type": "markdown",
      "source": [
        "## Experiment 5 - Kmeans on featurized Cleaned Text but using randomised Centroid (Tf-idf)"
      ],
      "metadata": {
        "id": "M6StTLkSYjFS"
      }
    },
    {
      "cell_type": "markdown",
      "source": [
        "### Building Customized Kmeans"
      ],
      "metadata": {
        "id": "VOtcyzydS-Rt"
      }
    },
    {
      "cell_type": "code",
      "source": [
        "def random_centroid(num_clusters, data):\n",
        "    #perform kmeans clustering for range of clusters\n",
        "    print(\"==\"*50)\n",
        "    print('Beginning KMeans Clustering, number of clusters = ', num_clusters, '\\n') \n",
        "    km = KMeans(n_clusters=num_clusters, max_iter = 100, verbose = 2,init='random', n_init = 3).fit(data)\n",
        "    print(f\" The silhouette metric score is :{metrics.silhouette_score(data, km.labels_, metric='euclidean')}\")\n",
        "    print(\"==\"*50)\n",
        "    \n",
        "    \n",
        "    return km"
      ],
      "metadata": {
        "id": "stZU9eTZZVs8"
      },
      "execution_count": 141,
      "outputs": []
    },
    {
      "cell_type": "markdown",
      "source": [
        "### Vectorizing Clean Text "
      ],
      "metadata": {
        "id": "ieqjIGxKTI0a"
      }
    },
    {
      "cell_type": "code",
      "source": [
        "#vectorized the CleanedText\n",
        "data_text=news_dataframe['CleanedText']\n",
        "documents_vectorized_text = tf_idf_vectorize_texts(data_text)\n",
        "#Lets see the shape of the vectorized Cleaned Text\n",
        "print(f\"The shape of the document after vectorization and tf-idf transformation is : {documents_vectorized_text.shape}\")\n",
        "#Running kmeans random centroid model on vectorized content\n",
        "kmeans3_RI_Cleanedtext = random_centroid(3, vectorized_text)"
      ],
      "metadata": {
        "colab": {
          "base_uri": "https://localhost:8080/"
        },
        "id": "Efd8eOH0YphW",
        "outputId": "ad4ec74f-644c-45af-dab4-ba1ebd503a0c"
      },
      "execution_count": 142,
      "outputs": [
        {
          "output_type": "stream",
          "name": "stdout",
          "text": [
            "Performing vectorization and TF/IDF transformation ....\n",
            "The shape of the document after vectorization and tf-idf transformation is : (60, 3210)\n",
            "====================================================================================================\n",
            "Beginning KMeans Clustering, number of clusters =  3 \n",
            "\n",
            "Initialization complete\n",
            "Iteration 0, inertia 46370.0\n",
            "Iteration 1, inertia 26079.728070175443\n",
            "Converged at iteration 1: strict convergence.\n",
            "Initialization complete\n",
            "Iteration 0, inertia 42417.0\n",
            "Iteration 1, inertia 26318.327586206873\n",
            "Converged at iteration 1: strict convergence.\n",
            "Initialization complete\n",
            "Iteration 0, inertia 37240.0\n",
            "Iteration 1, inertia 26443.551724137902\n",
            "Converged at iteration 1: strict convergence.\n",
            " The silhouette metric score is :0.05314343647393543\n",
            "====================================================================================================\n"
          ]
        }
      ]
    },
    {
      "cell_type": "markdown",
      "source": [
        "### Distribution of Labels"
      ],
      "metadata": {
        "id": "qNijJp0MQgxN"
      }
    },
    {
      "cell_type": "code",
      "source": [
        "# Lets see the labels distribution\n",
        "kmeans3_df['RI_cleanedtext']=(kmeans3_RI_Cleanedtext.labels_)\n",
        "kmeans3_df['RI_cleanedtext'].value_counts()"
      ],
      "metadata": {
        "colab": {
          "base_uri": "https://localhost:8080/"
        },
        "id": "HTK5Ca44Ypvk",
        "outputId": "e3c8ba12-a258-4b13-adc2-9f47bed33bc8"
      },
      "execution_count": 143,
      "outputs": [
        {
          "output_type": "execute_result",
          "data": {
            "text/plain": [
              "2    57\n",
              "1     2\n",
              "0     1\n",
              "Name: RI_cleanedtext, dtype: int64"
            ]
          },
          "metadata": {},
          "execution_count": 143
        }
      ]
    },
    {
      "cell_type": "markdown",
      "source": [
        "## Experimentation 6 - Kmeans model on summaraised Text ( Word2Vec used for featurization)"
      ],
      "metadata": {
        "id": "RuMyaMjIbDg6"
      }
    },
    {
      "cell_type": "markdown",
      "source": [
        "### Creating A Vectorized Summerized Text and Building A Model"
      ],
      "metadata": {
        "id": "zZW3dcx70-zg"
      }
    },
    {
      "cell_type": "code",
      "source": [
        "# Creating a summary data Frame\n",
        "df1=pd.DataFrame()\n",
        "df1['Summary_Content']= df_summary\n",
        "# Lets clean the data using the preprocessing_eda method\n",
        "column='Summary_Content'\n",
        "new_string = preprocessing_eda(df1,column)\n",
        "df1['Cleaned_Summary_Content'] = new_string\n",
        "# Lets apply the vectorization on cleaned summerized text\n",
        "vectorized_docs1= vectorize(df1['Cleaned_Summary_Content'], model=w2v_model)\n",
        "len(vectorized_docs1), len(vectorized_docs1[0])\n",
        "# Running kmeans model on Summarised Content data \n",
        "kmeans3_summary_cleanedtext = cluster_texts(3, vectorized_docs1)"
      ],
      "metadata": {
        "colab": {
          "base_uri": "https://localhost:8080/"
        },
        "id": "d7R-q0IsbICO",
        "outputId": "82eebb30-f33c-4743-a0eb-f7829508b413"
      },
      "execution_count": 144,
      "outputs": [
        {
          "output_type": "stream",
          "name": "stdout",
          "text": [
            "====================================================================================================\n",
            "Beginning KMeans Clustering, number of clusters =  3 \n",
            "\n",
            "Initialization complete\n",
            "Iteration 0, inertia 0.4558809987530062\n",
            "Iteration 1, inertia 0.3882918614569252\n",
            "Iteration 2, inertia 0.38650863563834714\n",
            "Iteration 3, inertia 0.3854896420567949\n",
            "Converged at iteration 3: strict convergence.\n",
            " The silhouette metric score is :0.4698376953601837\n",
            "====================================================================================================\n"
          ]
        }
      ]
    },
    {
      "cell_type": "markdown",
      "source": [
        "##Experiment 7 - Kmeans model on Cleaned Text (  Word2Vec used for featurization)\n"
      ],
      "metadata": {
        "id": "4P6SCeIZgvKR"
      }
    },
    {
      "cell_type": "markdown",
      "source": [
        "### Building the  Model "
      ],
      "metadata": {
        "id": "RYf2QxYnTqia"
      }
    },
    {
      "cell_type": "code",
      "source": [
        "#Running kmeans random centroid model on vectorized content\n",
        "kmeans3_Best_Model = cluster_texts(3, vectorized_docs)"
      ],
      "metadata": {
        "colab": {
          "base_uri": "https://localhost:8080/"
        },
        "id": "BLhbP33RbIR1",
        "outputId": "9e0d857e-2aa7-49de-d466-2eb4efabec57"
      },
      "execution_count": 145,
      "outputs": [
        {
          "output_type": "stream",
          "name": "stdout",
          "text": [
            "====================================================================================================\n",
            "Beginning KMeans Clustering, number of clusters =  3 \n",
            "\n",
            "Initialization complete\n",
            "Iteration 0, inertia 0.1755664596946545\n",
            "Iteration 1, inertia 0.10418759518582515\n",
            "Iteration 2, inertia 0.10248027929022274\n",
            "Converged at iteration 2: strict convergence.\n",
            " The silhouette metric score is :0.595798134803772\n",
            "====================================================================================================\n"
          ]
        }
      ]
    },
    {
      "cell_type": "markdown",
      "source": [
        "###   Distribution of Labels"
      ],
      "metadata": {
        "id": "I5gmEiioPXFN"
      }
    },
    {
      "cell_type": "code",
      "source": [
        "# Lets see the labels distribution\n",
        "kmeans3_df['Best_Model']=(kmeans3_Best_Model.labels_)\n",
        "kmeans3_df['Best_Model'].value_counts()"
      ],
      "metadata": {
        "colab": {
          "base_uri": "https://localhost:8080/"
        },
        "id": "vhP0nxNvhD_c",
        "outputId": "ee56857b-9860-4004-ca4e-d641bdded73c"
      },
      "execution_count": 146,
      "outputs": [
        {
          "output_type": "execute_result",
          "data": {
            "text/plain": [
              "2    31\n",
              "1    22\n",
              "0     7\n",
              "Name: Best_Model, dtype: int64"
            ]
          },
          "metadata": {},
          "execution_count": 146
        }
      ]
    },
    {
      "cell_type": "markdown",
      "source": [
        "## Experiment 8 - KMedoids model on Cleaned Text(Word2Vec used for featurization)"
      ],
      "metadata": {
        "id": "MzGFq7ohiEni"
      }
    },
    {
      "cell_type": "markdown",
      "source": [
        "### Building the KMedoids Model"
      ],
      "metadata": {
        "id": "FCIa5W6eiN2B"
      }
    },
    {
      "cell_type": "code",
      "source": [
        "# Building the model and using an evaluation metrics\n",
        "kmed = KMedoids(n_clusters=3, random_state=0).fit(vectorized_docs)\n",
        "print(f\" The silhouette metric score is :{metrics.silhouette_score(vectorized_docs, kmed.labels_, metric='euclidean')}\")"
      ],
      "metadata": {
        "colab": {
          "base_uri": "https://localhost:8080/"
        },
        "id": "I-iMfLXyjKyC",
        "outputId": "a4bd9221-5013-455f-c9a2-90d2fc815bce"
      },
      "execution_count": 147,
      "outputs": [
        {
          "output_type": "stream",
          "name": "stdout",
          "text": [
            " The silhouette metric score is :0.5206353664398193\n"
          ]
        }
      ]
    },
    {
      "cell_type": "markdown",
      "source": [
        "### Distribution of Labels"
      ],
      "metadata": {
        "id": "SFKXCGA6iULc"
      }
    },
    {
      "cell_type": "code",
      "source": [
        "# Lets see the labels distribution\n",
        "kmeans3_df['KMedoids_Model']=(kmed.labels_)\n",
        "kmeans3_df['KMedoids_Model'].value_counts()"
      ],
      "metadata": {
        "colab": {
          "base_uri": "https://localhost:8080/"
        },
        "id": "Bnr_FyjgkboD",
        "outputId": "fca16378-f9a8-40b1-abf7-6c9ceafb3a97"
      },
      "execution_count": 148,
      "outputs": [
        {
          "output_type": "execute_result",
          "data": {
            "text/plain": [
              "2    22\n",
              "0    21\n",
              "1    17\n",
              "Name: KMedoids_Model, dtype: int64"
            ]
          },
          "metadata": {},
          "execution_count": 148
        }
      ]
    },
    {
      "cell_type": "markdown",
      "source": [
        "## Visualisation of Some Experiments"
      ],
      "metadata": {
        "id": "Ywwuc_0phftf"
      }
    },
    {
      "cell_type": "code",
      "source": [
        "# Plotting histplot for various customised Labels\n",
        "plt.figure(1 , figsize = (10 , 6))\n",
        "n = 0 \n",
        "for x in ['Labels_On_Content' , 'Labels_On_Title' , 'Labels_On_Combined']:\n",
        "    n += 1\n",
        "    plt.subplot(1 , 3 , n)\n",
        "    plt.subplots_adjust(hspace = 0.5 , wspace = 0.5)\n",
        "    sns.histplot(kmeans3_df[x] , bins = 3)\n",
        "    plt.title('Histplotof {}'.format(x))\n",
        "plt.show()"
      ],
      "metadata": {
        "colab": {
          "base_uri": "https://localhost:8080/",
          "height": 405
        },
        "id": "ZALKoKm-hELm",
        "outputId": "7ede41f3-8cb1-4916-885d-2d21630d1b7f"
      },
      "execution_count": 149,
      "outputs": [
        {
          "output_type": "display_data",
          "data": {
            "text/plain": [
              "<Figure size 720x432 with 3 Axes>"
            ],
            "image/png": "[encoded data removed]"
          },
          "metadata": {
            "needs_background": "light"
          }
        }
      ]
    },
    {
      "cell_type": "markdown",
      "source": [
        "## Observations\n",
        "\n",
        "*   Carried out a wide range of experimentation firstly to find the value of k and the optimal value was found to be 3\n",
        "\n",
        "*   The Experimentation that I carried out used different Featurization techniques like tf-idf,word2vec,BOW and so on but it was found that the kmeans model performed much better with word2vec.\n",
        "*  The attribute Cleaned Title which is obtained from the Content attribute was found to be the one giving the best results as compared to the title and the combination of title and content.\n",
        "*  Also carried out the experimentation with the cleaned summary .attribute which was featurized by word2vec however the silhouette score of it was bit lower than the corresponding best model(Experiment 7)\n",
        "*   Kmedoids clustering was also tried in the last experimentation I wanted to try Kmediods since this algorithm is more robust to outliers and noise as compared to K-Means algorithm.\n",
        "\n",
        "\n",
        "\n",
        "\n",
        "\n",
        "\n"
      ],
      "metadata": {
        "id": "pmDUweJuk3N2"
      }
    },
    {
      "cell_type": "markdown",
      "source": [
        "# Conclusion and Further Enhancements\n",
        " The task of this project was to cluster different news articles which was carried out in several steps begining from the data analysing to visualization steps then to data preparation model building and evaluation and finally the Experimentation 7 was found to be better compared to other experiments carried out.\n",
        " These are the further enhancements which can be carried out the first one being the google word2vec would be used as compared to the user defined one second one being the labels generated could be added to the original dataframe and various ml models can be built on them so when an article is given it can classify the article . This would only be feasible if the rows in the original dataframe are increased by collecting more articles  "
      ],
      "metadata": {
        "id": "u6oiXz24o20e"
      }
    }
  ]
}